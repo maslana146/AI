{
 "cells": [
  {
   "cell_type": "markdown",
   "metadata": {
    "colab_type": "text",
    "id": "QxamPBVoAj-4"
   },
   "source": [
    "**Subject: Sorting algorithms**"
   ]
  },
  {
   "cell_type": "markdown",
   "metadata": {
    "colab_type": "text",
    "id": "vEB8o1f2AvJI"
   },
   "source": [
    "#I. Write a program to create a students’ list. The program should enable storing data on the dynamic ordered list (one directional searching) and in BST. It should also allow adding an element to the existing structure, searching for the element and deleting it from the structure. Each element consists of a surname, first name and index number. (12 characters First Name, 12 characters Last Name, 7 digits Index No.)"
   ]
  },
  {
   "cell_type": "markdown",
   "metadata": {
    "colab_type": "text",
    "id": "sAc5rV3EBA5p"
   },
   "source": [
    "##Linked-List\n"
   ]
  },
  {
   "cell_type": "markdown",
   "metadata": {
    "colab_type": "text",
    "id": "vnlo3CBLBMG5"
   },
   "source": [
    "### Create Student class:"
   ]
  },
  {
   "cell_type": "code",
   "execution_count": 0,
   "metadata": {
    "colab": {},
    "colab_type": "code",
    "id": "iDuTkujuBIpl"
   },
   "outputs": [],
   "source": [
    "class LLNode:\n",
    "    def __init__(self, name, surname, indexNo):\n",
    "        self.next = None\n",
    "        self.name = name\n",
    "        self.surname = surname\n",
    "        self.indexNo = indexNo\n"
   ]
  },
  {
   "cell_type": "markdown",
   "metadata": {
    "colab_type": "text",
    "id": "EOwNMMn6W3Pw"
   },
   "source": [
    "### Create LinkedList class, display function, insert function and delete function:"
   ]
  },
  {
   "cell_type": "code",
   "execution_count": 0,
   "metadata": {
    "colab": {},
    "colab_type": "code",
    "id": "kdD8ZaKNBWXT"
   },
   "outputs": [],
   "source": [
    "class LinkedList:\n",
    "    def __init__(self):\n",
    "        self.startNode = None\n",
    "\n",
    "    def displayList(self):\n",
    "        if self.startNode is None:\n",
    "            print(\"List is empty.\")\n",
    "            return\n",
    "        else:\n",
    "            per = self.startNode\n",
    "            while per is not None:\n",
    "                print(\"Name   : \", per.name)\n",
    "                print(\"Surname : \", per.surname)\n",
    "                print(\"Index No. : \", per.indexNo)\n",
    "                print('\\n')\n",
    "                per = per.next\n",
    "\n",
    "    def insertInorder(self, item):\n",
    "        if self.startNode is None:\n",
    "            item.next = self.startNode\n",
    "            self.startNode = item\n",
    "            return\n",
    "        elif self.startNode.indexNo >= item.indexNo:\n",
    "            item.next = self.startNode\n",
    "            self.startNode = item\n",
    "            return\n",
    "        else:\n",
    "            node = self.startNode\n",
    "\n",
    "            while node.next and node.next.indexNo < item.indexNo:\n",
    "                node = node.next\n",
    "            item.next = node.next\n",
    "            node.next = item\n",
    "            return\n",
    "\n",
    "    def findStudent(self, number):\n",
    "        per = self.startNode\n",
    "        if per is None:\n",
    "            return print(\"List is empty.\")\n",
    "        while per is not None:\n",
    "\n",
    "            if per.indexNo == number:\n",
    "                print('Student found in LinkedList')\n",
    "                # print(\"Name   : \", per.name)\n",
    "                # print(\"RollNo : \", per.surname)\n",
    "                # print(\"Marks1 : \", per.indexNo)\n",
    "                # print('\\n')\n",
    "                return True\n",
    "            per = per.next\n",
    "        return False #print(\"Student do not exist.\")\n",
    "\n",
    "    def deleteStudent(self, number):\n",
    "        per = self.startNode\n",
    "\n",
    "        if per is None:\n",
    "            return #print(\"List is empty.\")\n",
    "\n",
    "        if per.indexNo == number:\n",
    "            next = per.next\n",
    "            per = None\n",
    "            self.startNode = next\n",
    "            #print(\"Student has been removed\")\n",
    "            return True\n",
    "\n",
    "        if per.next is None:\n",
    "            return False #print(\"Student do not exist.\")\n",
    "\n",
    "        while per is not None:\n",
    "            delitem = per.next\n",
    "            if delitem.indexNo == number:\n",
    "                next = per.next.next\n",
    "                per.next = None\n",
    "                per.next = next\n",
    "\n",
    "                #print(\"Student has been removed\")\n",
    "                return True\n",
    "\n",
    "            per = per.next\n",
    "\n",
    "        return False #print(\"Student do not exist.\")"
   ]
  },
  {
   "cell_type": "markdown",
   "metadata": {
    "colab_type": "text",
    "id": "p5YpDDHKcxc1"
   },
   "source": [
    "### Testing Linked list:"
   ]
  },
  {
   "cell_type": "markdown",
   "metadata": {
    "colab_type": "text",
    "id": "3nv1SxWCdlrY"
   },
   "source": [
    "Display list and insert student:"
   ]
  },
  {
   "cell_type": "code",
   "execution_count": 7,
   "metadata": {
    "colab": {
     "base_uri": "https://localhost:8080/",
     "height": 272
    },
    "colab_type": "code",
    "id": "lJhUqxpDc1Zw",
    "outputId": "654d7eca-2212-4be3-bc97-cdff928c472a"
   },
   "outputs": [
    {
     "name": "stdout",
     "output_type": "stream",
     "text": [
      "Name   :  Jan\n",
      "Surname :  Kowalski\n",
      "Index No. :  111\n",
      "\n",
      "\n",
      "Name   :  Karol\n",
      "Surname :  Nowak\n",
      "Index No. :  222\n",
      "\n",
      "\n",
      "Name   :  Justyna\n",
      "Surname :  Kot\n",
      "Index No. :  333\n",
      "\n",
      "\n"
     ]
    }
   ],
   "source": [
    "listOfStudents = LinkedList()\n",
    "listOfStudents.insertInorder(LLNode('Jan', 'Kowalski', 111))\n",
    "listOfStudents.insertInorder(LLNode('Karol', 'Nowak', 222))\n",
    "listOfStudents.insertInorder(LLNode('Justyna', 'Kot', 333))\n",
    "listOfStudents.displayList()"
   ]
  },
  {
   "cell_type": "markdown",
   "metadata": {
    "colab_type": "text",
    "id": "Vn4RJbykecoy"
   },
   "source": [
    "Delete student(Karol Nowak 222) from list:"
   ]
  },
  {
   "cell_type": "code",
   "execution_count": 8,
   "metadata": {
    "colab": {
     "base_uri": "https://localhost:8080/",
     "height": 187
    },
    "colab_type": "code",
    "id": "-TlZo4-XBWfB",
    "outputId": "2be1302a-b127-465d-bccd-a8ea09da4745"
   },
   "outputs": [
    {
     "name": "stdout",
     "output_type": "stream",
     "text": [
      "Name   :  Jan\n",
      "Surname :  Kowalski\n",
      "Index No. :  111\n",
      "\n",
      "\n",
      "Name   :  Justyna\n",
      "Surname :  Kot\n",
      "Index No. :  333\n",
      "\n",
      "\n"
     ]
    }
   ],
   "source": [
    "listOfStudents.deleteStudent(222)\n",
    "listOfStudents.displayList()"
   ]
  },
  {
   "cell_type": "markdown",
   "metadata": {
    "colab_type": "text",
    "id": "Tb333naDJ5A9"
   },
   "source": [
    "## Binarry Search Tree"
   ]
  },
  {
   "cell_type": "markdown",
   "metadata": {
    "colab_type": "text",
    "id": "0isC_zk_X3wp"
   },
   "source": [
    "### Create Student class with childs:"
   ]
  },
  {
   "cell_type": "code",
   "execution_count": 0,
   "metadata": {
    "colab": {},
    "colab_type": "code",
    "id": "8YwhnGtRBWiG"
   },
   "outputs": [],
   "source": [
    "class BSTNode:\n",
    "    def __init__(self,name ,surname, indexNo):\n",
    "        self.name = name\n",
    "        self.surname = surname\n",
    "        self.key = indexNo\n",
    "        self.leftSite = None\n",
    "        self.rightSite = None\n"
   ]
  },
  {
   "cell_type": "markdown",
   "metadata": {
    "colab_type": "text",
    "id": "0tE8gH9TXnAq"
   },
   "source": [
    "### Display student informations function:"
   ]
  },
  {
   "cell_type": "code",
   "execution_count": 0,
   "metadata": {
    "colab": {},
    "colab_type": "code",
    "id": "LEQDBMIPXrvX"
   },
   "outputs": [],
   "source": [
    "def displayStudent(item):\n",
    "    print(\"Name   : \", item.name)\n",
    "    print(\"Surname : \", item.surname)\n",
    "    print(\"Index No. : \", item.key)\n",
    "    print('\\n')"
   ]
  },
  {
   "cell_type": "markdown",
   "metadata": {
    "colab_type": "text",
    "id": "-5rEBJSdX8Lw"
   },
   "source": [
    "###Display InOrder list function:"
   ]
  },
  {
   "cell_type": "code",
   "execution_count": 0,
   "metadata": {
    "colab": {},
    "colab_type": "code",
    "id": "iJWFztJiYHbC"
   },
   "outputs": [],
   "source": [
    "\n",
    "def printInorderList(root):\n",
    "    if root:\n",
    "        printInorderList(root.leftSite)\n",
    "        displayStudent(root)\n",
    "        printInorderList(root.rightSite)\n",
    "\n"
   ]
  },
  {
   "cell_type": "markdown",
   "metadata": {
    "colab_type": "text",
    "id": "fBr1s5RpYILb"
   },
   "source": [
    "### Insert student to BST:"
   ]
  },
  {
   "cell_type": "code",
   "execution_count": 0,
   "metadata": {
    "colab": {},
    "colab_type": "code",
    "id": "MTmfXSiiBWk_"
   },
   "outputs": [],
   "source": [
    "def insertStudent(root, person):\n",
    "    if root is None:\n",
    "        return person\n",
    "    else:\n",
    "        if root.key < person.key:\n",
    "            if root.rightSite is None:\n",
    "                root.rightSite = person\n",
    "            else:\n",
    "                insertStudent(root.rightSite, person)\n",
    "        else:\n",
    "            if root.leftSite is None:\n",
    "                root.leftSite = person\n",
    "            else:\n",
    "                insertStudent(root.leftSite, person)\n",
    "    return root\n"
   ]
  },
  {
   "cell_type": "markdown",
   "metadata": {
    "colab_type": "text",
    "id": "kuKThmIvx81I"
   },
   "source": [
    "### Find student:"
   ]
  },
  {
   "cell_type": "code",
   "execution_count": 0,
   "metadata": {
    "colab": {},
    "colab_type": "code",
    "id": "VDxqMNclyAzA"
   },
   "outputs": [],
   "source": [
    "def findStudent(root,number):\n",
    "    if root is None or root.key == number:\n",
    "       print(\"Student found in BST\")\n",
    "       return ###displayStudent(root)\n",
    "    if root.key < number:\n",
    "       return findStudent(root.rightSite, number)\n",
    "    return findStudent(root.leftSite, number)"
   ]
  },
  {
   "cell_type": "markdown",
   "metadata": {
    "colab_type": "text",
    "id": "7GIwchshYP6Q"
   },
   "source": [
    "### Delete Student form BST:"
   ]
  },
  {
   "cell_type": "markdown",
   "metadata": {
    "colab_type": "text",
    "id": "kP-ZqSCkYWzk"
   },
   "source": [
    " Finding the samllest index in right child of node:"
   ]
  },
  {
   "cell_type": "code",
   "execution_count": 0,
   "metadata": {
    "colab": {},
    "colab_type": "code",
    "id": "u4ATzyu3BWnw"
   },
   "outputs": [],
   "source": [
    "def findMinimumItem(root):\n",
    "    replaceItem = root\n",
    "    while replaceItem.leftSite:\n",
    "        replaceItem = replaceItem.leftSite\n",
    "    return replaceItem"
   ]
  },
  {
   "cell_type": "markdown",
   "metadata": {
    "colab_type": "text",
    "id": "ECuSLMiiY2qE"
   },
   "source": [
    "When we find the smallest child, we replace them with the deleted node"
   ]
  },
  {
   "cell_type": "code",
   "execution_count": 0,
   "metadata": {
    "colab": {},
    "colab_type": "code",
    "id": "C62LVBQhBWqu"
   },
   "outputs": [],
   "source": [
    "def deleteItem(root, number):\n",
    "    if root is None:\n",
    "        return False, print('List is empty.')\n",
    "    if root.leftSite is None and root.rightSite is None:\n",
    "        root = None\n",
    "        return root\n",
    "    if number < root.key:\n",
    "        root.leftSite = deleteItem(root.leftSite, number)\n",
    "    elif number > root.key:\n",
    "        root.rightSite = deleteItem(root.rightSite, number)\n",
    "    else:\n",
    "\n",
    "        if root.leftSite is None:\n",
    "            replaceItem = root.rightSite\n",
    "            root = None\n",
    "            return replaceItem\n",
    "        elif root.rightSite is None:\n",
    "            replaceItem = root.leftSite\n",
    "            root = None\n",
    "            return replaceItem\n",
    "        replaceItem = findMinimumItem(root.rightSite)\n",
    "        root.key = replaceItem.key\n",
    "        root.rightSite = deleteItem(root.rightSite, replaceItem.key)\n",
    "    return root\n"
   ]
  },
  {
   "cell_type": "markdown",
   "metadata": {
    "colab_type": "text",
    "id": "0CitSwP3e3xV"
   },
   "source": [
    "### Testing Binarry Search Tree:\n"
   ]
  },
  {
   "cell_type": "markdown",
   "metadata": {
    "colab_type": "text",
    "id": "ar3VNc0-fESr"
   },
   "source": [
    "Insert students to BST and display inorder list:"
   ]
  },
  {
   "cell_type": "code",
   "execution_count": 16,
   "metadata": {
    "colab": {
     "base_uri": "https://localhost:8080/",
     "height": 612
    },
    "colab_type": "code",
    "id": "M8s9Z6sDfOyG",
    "outputId": "05e278db-9a1e-4a35-f4fd-62d1a65445ce"
   },
   "outputs": [
    {
     "name": "stdout",
     "output_type": "stream",
     "text": [
      "Name   :  Ania\n",
      "Surname :  Nowak\n",
      "Index No. :  2\n",
      "\n",
      "\n",
      "Name   :  Maria\n",
      "Surname :  Mała\n",
      "Index No. :  4\n",
      "\n",
      "\n",
      "Name   :  Michał\n",
      "Surname :  Kowalski\n",
      "Index No. :  5\n",
      "\n",
      "\n",
      "Name   :  Bartek\n",
      "Surname :  Maslanka\n",
      "Index No. :  6\n",
      "\n",
      "\n",
      "Name   :  Jan\n",
      "Surname :  Kot\n",
      "Index No. :  7\n",
      "\n",
      "\n",
      "Name   :  Karol\n",
      "Surname :  Duży\n",
      "Index No. :  8\n",
      "\n",
      "\n",
      "Name   :  Justyna\n",
      "Surname :  Zła\n",
      "Index No. :  9\n",
      "\n",
      "\n"
     ]
    }
   ],
   "source": [
    "root = None\n",
    "root = insertStudent(root, BSTNode('Jan', 'Kot', 7))\n",
    "root = insertStudent(root, BSTNode('Bartek', 'Maslanka', 6))\n",
    "root = insertStudent(root, BSTNode('Karol', 'Duży', 8))\n",
    "root = insertStudent(root, BSTNode('Justyna', 'Zła', 9))\n",
    "root = insertStudent(root, BSTNode('Maria', 'Mała', 4))\n",
    "root = insertStudent(root, BSTNode('Michał', 'Kowalski', 5))\n",
    "root = insertStudent(root, BSTNode('Ania', 'Nowak', 2))\n",
    "printInorderList(root)"
   ]
  },
  {
   "cell_type": "markdown",
   "metadata": {
    "colab_type": "text",
    "id": "JsGF4El2gY97"
   },
   "source": [
    "Delete student(Jan Kot 7) and (Maria Mała 4) from list:"
   ]
  },
  {
   "cell_type": "code",
   "execution_count": 17,
   "metadata": {
    "colab": {
     "base_uri": "https://localhost:8080/",
     "height": 442
    },
    "colab_type": "code",
    "id": "6eGuf0aqghj_",
    "outputId": "48c22340-f315-4885-8cb0-ffd82349268a"
   },
   "outputs": [
    {
     "name": "stdout",
     "output_type": "stream",
     "text": [
      "Name   :  Ania\n",
      "Surname :  Nowak\n",
      "Index No. :  2\n",
      "\n",
      "\n",
      "Name   :  Maria\n",
      "Surname :  Mała\n",
      "Index No. :  5\n",
      "\n",
      "\n",
      "Name   :  Bartek\n",
      "Surname :  Maslanka\n",
      "Index No. :  6\n",
      "\n",
      "\n",
      "Name   :  Jan\n",
      "Surname :  Kot\n",
      "Index No. :  8\n",
      "\n",
      "\n",
      "Name   :  Justyna\n",
      "Surname :  Zła\n",
      "Index No. :  9\n",
      "\n",
      "\n"
     ]
    }
   ],
   "source": [
    "deleteItem(root, 7)\n",
    "deleteItem(root, 4)\n",
    "printInorderList(root)"
   ]
  },
  {
   "cell_type": "markdown",
   "metadata": {
    "colab_type": "text",
    "id": "WP33W4FoZ93B"
   },
   "source": [
    "# II. Prepare data sets for testing the time needed for performing individual operations( add, search, delete element) on the tested data structures. Such a set should contain n records (surname, first name, index number), but only the index number will be treated as a key for operations performed on data structures (Data to the input table read from a previously generated text file – the file should be editable - not a binary file)."
   ]
  },
  {
   "cell_type": "markdown",
   "metadata": {
    "colab_type": "text",
    "id": "slRz-DqUaIaq"
   },
   "source": [
    "## List of Students generator:\n"
   ]
  },
  {
   "cell_type": "markdown",
   "metadata": {
    "colab_type": "text",
    "id": "3Z1c1h8KbTiC"
   },
   "source": [
    "names - Random name generator\n",
    "\n",
    "Installation: The script is available on PyPI. To install with pip: sudo pip install names\n",
    "\n",
    "\n",
    "\n"
   ]
  },
  {
   "cell_type": "code",
   "execution_count": 0,
   "metadata": {
    "colab": {},
    "colab_type": "code",
    "id": "K3PIQGcKaT5L"
   },
   "outputs": [],
   "source": [
    "import random\n",
    "import string"
   ]
  },
  {
   "cell_type": "markdown",
   "metadata": {
    "colab_type": "text",
    "id": "LRumjFo0bBxN"
   },
   "source": [
    "Firstly create empty txt file: listOfStudents.txt, then generate non repeating index numbers of students. Next step is create student list with randomly generated details and save it in .txt file line by line."
   ]
  },
  {
   "cell_type": "code",
   "execution_count": 0,
   "metadata": {
    "colab": {},
    "colab_type": "code",
    "id": "2jk5N05IBWtg"
   },
   "outputs": [],
   "source": [
    "def randomString(stringLength=8):\n",
    "    letters = string.ascii_lowercase\n",
    "    return ''.join(random.choice(letters) for i in range(stringLength)).capitalize()\n",
    "    \n",
    "def listGen(N):\n",
    "  file = open(\"listOfStudents.txt\",\"a\")\n",
    "  index = [j for j in range(0,N)]\n",
    "  tab = random.sample(index, len(index))\n",
    "  for i in tab:\n",
    "      file.write(str(randomString()+\",\"+randomString()+\",\"+str(i)))\n",
    "      file.write(\"\\n\")\n",
    "  file.close()\n",
    "  return"
   ]
  },
  {
   "cell_type": "markdown",
   "metadata": {
    "colab_type": "text",
    "id": "XoVicQZtcbSm"
   },
   "source": [
    "### III. Measure the time needed to add elements to the considered structures, data sets of different sizes n, and to remove all elements (removing element one by one – elements for removing are chosen randomly)."
   ]
  },
  {
   "cell_type": "code",
   "execution_count": 0,
   "metadata": {
    "colab": {},
    "colab_type": "code",
    "id": "YZb-EbRgkhC8"
   },
   "outputs": [],
   "source": [
    "import time\n",
    "import matplotlib.pyplot as plt\n",
    "import numpy as np"
   ]
  },
  {
   "cell_type": "markdown",
   "metadata": {
    "colab_type": "text",
    "id": "3wph3JTnk0ko"
   },
   "source": [
    "#### Linked list:\n"
   ]
  },
  {
   "cell_type": "markdown",
   "metadata": {
    "colab_type": "text",
    "id": "ZTIdh2ZJoThD"
   },
   "source": [
    "Insert all students to LinkedList:"
   ]
  },
  {
   "cell_type": "code",
   "execution_count": 0,
   "metadata": {
    "colab": {},
    "colab_type": "code",
    "id": "r4UbDsYioRqt"
   },
   "outputs": [],
   "source": [
    "def insertLLis(testLinkedList):\n",
    "    f = open(\"listOfStudents.txt\", \"r\")\n",
    "    for i in f:\n",
    "        student = i.split(',')\n",
    "        testLinkedList.insertInorder(LLNode(student[0], student[1], int(student[2])))\n",
    "    f.close()\n",
    "    return"
   ]
  },
  {
   "cell_type": "markdown",
   "metadata": {
    "colab_type": "text",
    "id": "hZxqj1RarKPU"
   },
   "source": [
    "Remove all elements from LinkedList:"
   ]
  },
  {
   "cell_type": "code",
   "execution_count": 0,
   "metadata": {
    "colab": {},
    "colab_type": "code",
    "id": "WBYw4NKb17oR"
   },
   "outputs": [],
   "source": [
    "def removeLinkedList(testLinkedList,N):\n",
    "  index = [j for j in range(0,N)]\n",
    "  tab = random.sample(index, len(index))\n",
    "  for i in tab:\n",
    "    testLinkedList.deleteStudent(i)"
   ]
  },
  {
   "cell_type": "markdown",
   "metadata": {
    "colab_type": "text",
    "id": "vuHXvdCnrl8W"
   },
   "source": [
    "#### Binary Search Tree"
   ]
  },
  {
   "cell_type": "markdown",
   "metadata": {
    "colab_type": "text",
    "id": "h77LnuY6r0U7"
   },
   "source": [
    "Insert all students to BST:"
   ]
  },
  {
   "cell_type": "code",
   "execution_count": 0,
   "metadata": {
    "colab": {},
    "colab_type": "code",
    "id": "PM4PRB-wsDHB"
   },
   "outputs": [],
   "source": [
    "def insertBST(root):\n",
    "    f = open(\"listOfStudents.txt\", \"r\")\n",
    "\n",
    "    for i in f:\n",
    "        student = i.split(',')\n",
    "        root = insertStudent(root, BSTNode(student[0], student[1], int(student[2])))\n",
    "    f.close()\n",
    "    return root"
   ]
  },
  {
   "cell_type": "markdown",
   "metadata": {
    "colab_type": "text",
    "id": "4Onhvi6IrPzI"
   },
   "source": [
    "Remove all elements from BST:"
   ]
  },
  {
   "cell_type": "code",
   "execution_count": 0,
   "metadata": {
    "colab": {},
    "colab_type": "code",
    "id": "Cw-i5JaN3xgn"
   },
   "outputs": [],
   "source": [
    "def removeBST(root, N):\n",
    "    index = [j for j in range(0, N)]\n",
    "    tab = random.sample(index, len(index))\n",
    "    for i in tab:\n",
    "        root = deleteItem(root, i)\n",
    "    return root\n"
   ]
  },
  {
   "cell_type": "markdown",
   "metadata": {
    "colab_type": "text",
    "id": "1HcNAGTNrS05"
   },
   "source": [
    "#### Creating results:"
   ]
  },
  {
   "cell_type": "code",
   "execution_count": 0,
   "metadata": {
    "colab": {},
    "colab_type": "code",
    "id": "nofO7RZAk3F8"
   },
   "outputs": [],
   "source": [
    "TimeTabAdd = [[], []]\n",
    "TimeTabDel = [[], []]\n",
    "\n",
    "for i in range(1000,11000,1000):\n",
    "    AddAverage = [[], []]\n",
    "    DelAverage = [[], []]\n",
    "    listGen(i)\n",
    "    for j in range(10):\n",
    "        testLinkedList = LinkedList()\n",
    "        root = None\n",
    "\n",
    "        addTime = time.time()\n",
    "        insertLLis(testLinkedList)\n",
    "        AddAverage[0].append(time.time() - addTime)\n",
    "\n",
    "        delTime = time.time()\n",
    "        removeLinkedList(testLinkedList, i)\n",
    "        DelAverage[0].append(time.time() - delTime)\n",
    "\n",
    "        addTime = time.time()\n",
    "        root = insertBST(root)\n",
    "        AddAverage[1].append(time.time() - addTime)\n",
    "\n",
    "        delTime = time.time()\n",
    "        root = removeBST(root, i)\n",
    "        DelAverage[1].append(time.time() - delTime)\n",
    "\n",
    "    TimeTabAdd[0].append(np.mean(AddAverage[0]))\n",
    "    TimeTabAdd[1].append(np.mean(AddAverage[1]))\n",
    "    TimeTabDel[0].append(np.mean(DelAverage[0]))\n",
    "    TimeTabDel[1].append(np.mean(DelAverage[1]))\n",
    "    open(\"listOfStudents.txt\", \"w\").close()\n",
    "\n",
    "\n"
   ]
  },
  {
   "cell_type": "markdown",
   "metadata": {
    "colab_type": "text",
    "id": "eHjNJ5SLrc7p"
   },
   "source": [
    "#### Creating plots:"
   ]
  },
  {
   "cell_type": "markdown",
   "metadata": {
    "colab_type": "text",
    "id": "MHA4TvY1rygN"
   },
   "source": [
    "Inserting ellements chart:"
   ]
  },
  {
   "cell_type": "code",
   "execution_count": 86,
   "metadata": {
    "colab": {
     "base_uri": "https://localhost:8080/",
     "height": 238
    },
    "colab_type": "code",
    "id": "63OnfH6i06r0",
    "outputId": "2b9d91b7-f541-4fc1-dca8-a5fb248c3259"
   },
   "outputs": [
    {
     "name": "stdout",
     "output_type": "stream",
     "text": [
      "Inserting time N elments: \n",
      "\n",
      "       LinekdList       BST\n",
      "1000     0.038061  0.010595\n",
      "2000     0.151343  0.009307\n",
      "3000     0.349626  0.020688\n",
      "4000     0.634358  0.024026\n",
      "5000     1.023100  0.030708\n",
      "6000     1.495562  0.042504\n",
      "7000     2.122410  0.041252\n",
      "8000     2.836895  0.043300\n",
      "9000     3.638963  0.054664\n",
      "10000    4.682544  0.073916\n"
     ]
    }
   ],
   "source": [
    "import pandas as pd\n",
    "data = {'LinekdList':TimeTabAdd[0],'BST':TimeTabAdd[1]}\n",
    "index = [i for i in range(1000,11000,1000)]\n",
    "df = pd.DataFrame(data,index)\n",
    "print('Inserting time N elments:','\\n')\n",
    "print(df)"
   ]
  },
  {
   "cell_type": "code",
   "execution_count": 79,
   "metadata": {
    "colab": {
     "base_uri": "https://localhost:8080/",
     "height": 295
    },
    "colab_type": "code",
    "id": "ZeWHgkgJZEzz",
    "outputId": "8fae46d2-4eb1-4181-fc9f-15eb6556ea17"
   },
   "outputs": [
    {
     "data": {
      "image/png": "[encoded data removed]",
      "text/plain": [
       "<Figure size 432x288 with 1 Axes>"
      ]
     },
     "metadata": {
      "needs_background": "light",
      "tags": []
     },
     "output_type": "display_data"
    }
   ],
   "source": [
    "for i in TimeTabAdd:\n",
    "  plt.plot([i for i in range(1000,11000,1000)],list(i))\n",
    "plt.xlabel(\"number of elements in the list\")\n",
    "plt.ylabel(\"tiem [s]\")\n",
    "plt.title(\"Chart: t[s] = f(n) (Inserting elements)\")\n",
    "plt.legend(['Linked List','BST'])\n",
    "plt.show()"
   ]
  },
  {
   "cell_type": "markdown",
   "metadata": {
    "colab_type": "text",
    "id": "HCdIsdfSr4VC"
   },
   "source": [
    "Deleting all elements from structure:"
   ]
  },
  {
   "cell_type": "code",
   "execution_count": 83,
   "metadata": {
    "colab": {
     "base_uri": "https://localhost:8080/",
     "height": 238
    },
    "colab_type": "code",
    "id": "slKdZZG26i3B",
    "outputId": "b9c76b5a-b119-4411-d378-b8544ce7e511"
   },
   "outputs": [
    {
     "name": "stdout",
     "output_type": "stream",
     "text": [
      "Deleting time N elments: \n",
      "\n",
      "      LinekdList       BST\n",
      "100     0.029676  0.003938\n",
      "200     0.119882  0.008859\n",
      "300     0.278558  0.015070\n",
      "400     0.509875  0.018506\n",
      "500     0.819950  0.025743\n",
      "600     1.232660  0.031201\n",
      "700     1.760063  0.036337\n",
      "800     2.404560  0.044946\n",
      "900     3.129135  0.049544\n",
      "1000    3.991909  0.057722\n"
     ]
    }
   ],
   "source": [
    "data = {'LinekdList':TimeTabDel[0],'BST':TimeTabDel[1]}\n",
    "index = [i for i in range(100,1100,100)]\n",
    "df = pd.DataFrame(data,index)\n",
    "print('Deleting time N elments:','\\n')\n",
    "print(df)"
   ]
  },
  {
   "cell_type": "code",
   "execution_count": 84,
   "metadata": {
    "colab": {
     "base_uri": "https://localhost:8080/",
     "height": 295
    },
    "colab_type": "code",
    "id": "QAamFdvDZMkj",
    "outputId": "f8406d7f-4e58-4cfd-82dc-2a7e38e9b27b"
   },
   "outputs": [
    {
     "data": {
      "image/png": "[encoded data removed]",
      "text/plain": [
       "<Figure size 432x288 with 1 Axes>"
      ]
     },
     "metadata": {
      "needs_background": "light",
      "tags": []
     },
     "output_type": "display_data"
    }
   ],
   "source": [
    "for i in TimeTabDel:\n",
    "  plt.plot([i for i in range(100,1100,100)],list(i))\n",
    "plt.xlabel(\"number of elements in the list\")\n",
    "plt.ylabel(\"tiem [s]\")\n",
    "plt.title(\"Chart: t[s] = f(n) (Deleting elements)\")\n",
    "plt.legend(['Linked List','BST'])\n",
    "plt.show()"
   ]
  },
  {
   "cell_type": "markdown",
   "metadata": {
    "colab_type": "text",
    "id": "X6OnLTK5r9hO"
   },
   "source": [
    "Deleting all elements from BST chart:"
   ]
  },
  {
   "cell_type": "code",
   "execution_count": 85,
   "metadata": {
    "colab": {
     "base_uri": "https://localhost:8080/",
     "height": 295
    },
    "colab_type": "code",
    "id": "LvLXat_yqSBb",
    "outputId": "aaeb1b96-56ab-43ae-8594-c11f6d9d802e"
   },
   "outputs": [
    {
     "data": {
      "image/png": "[encoded data removed]",
      "text/plain": [
       "<Figure size 432x288 with 1 Axes>"
      ]
     },
     "metadata": {
      "needs_background": "light",
      "tags": []
     },
     "output_type": "display_data"
    }
   ],
   "source": [
    "\n",
    "plt.plot([i for i in range(100,1100,100)],TimeTabDel[1])\n",
    "plt.xlabel(\"number of elements in the list\")\n",
    "plt.ylabel(\"tiem [s]\")\n",
    "plt.title(\"Chart: t[s] = f(n) (Deleting elements)\")\n",
    "plt.legend(['BST'])\n",
    "plt.show()"
   ]
  },
  {
   "cell_type": "markdown",
   "metadata": {
    "colab_type": "text",
    "id": "ND_-N7hictzj"
   },
   "source": [
    "### In addition, examine the time necessary to search elements in each of the structures ( function of n) - by measuring the average search time of all elements in turn, if necessary run several turns). In this case, you should compare the times of three following structures: the ordered list, BST and Balanced BST (BBST). The element again should be selected randomly."
   ]
  },
  {
   "cell_type": "markdown",
   "metadata": {
    "colab_type": "text",
    "id": "fle7F2Wpsc8g"
   },
   "source": [
    "## AVL - (named after inventors Adelson-Velsky and Landis) is a self-balancing binary search tree."
   ]
  },
  {
   "cell_type": "markdown",
   "metadata": {
    "colab_type": "text",
    "id": "6QQZqbJwtOqP"
   },
   "source": [
    "AVL item class:"
   ]
  },
  {
   "cell_type": "code",
   "execution_count": 0,
   "metadata": {
    "colab": {},
    "colab_type": "code",
    "id": "IdlpsBletMpF"
   },
   "outputs": [],
   "source": [
    "class AVLNode(object):\n",
    "    def __init__(self,name ,surname, indexNo):\n",
    "        self.name = name\n",
    "        self.surname = surname\n",
    "        self.key = indexNo\n",
    "        self.leftSite = None\n",
    "        self.rightSite = None\n",
    "        self.height = 1"
   ]
  },
  {
   "cell_type": "markdown",
   "metadata": {
    "colab_type": "text",
    "id": "Crs8sohoseDW"
   },
   "source": [
    "AVT tree class:"
   ]
  },
  {
   "cell_type": "code",
   "execution_count": 0,
   "metadata": {
    "colab": {},
    "colab_type": "code",
    "id": "KFiY_P-vtX_a"
   },
   "outputs": [],
   "source": [
    "class AVLTree(object):\n",
    "\n",
    "    def getHeight(self,root):\n",
    "        if not root:\n",
    "            return 0\n",
    "        return root.height\n",
    "\n",
    "    def getBalance(self,root):\n",
    "        if not root:\n",
    "            return 0\n",
    "        return self.getHeight(root.leftSite)-self.getHeight(root.rightSite)\n",
    "\n",
    "    def insertStudent(self, root,item):\n",
    "        if root is None:\n",
    "            return item\n",
    "        elif item.key < root.key:\n",
    "            root.leftSite = self.insertStudent(root.leftSite, item)\n",
    "        else:\n",
    "            root.rightSite = self.insertStudent(root.rightSite, item)\n",
    "\n",
    "        root.height = 1 +max(self.getHeight(root.leftSite),self.getHeight(root.rightSite))\n",
    "\n",
    "        balance = self.getBalance(root)\n",
    "\n",
    "        if balance > 1 and item.key < root.leftSite.key:\n",
    "            return self.rightRotate(root)\n",
    "\n",
    "        if balance < -1 and item.key > root.rightSite.key:\n",
    "            return self.leftRotate(root)\n",
    "        if balance > 1 and item.key > root.leftSite.key:\n",
    "            root.leftSite = self.leftRotate(root.leftSite)\n",
    "            return self.rightRotate(root)\n",
    "        if balance < -1 and item.key < root.rightSite.key:\n",
    "            root.rightSite = self.rightRotate(root.rightSite)\n",
    "            return self.leftRotate(root)\n",
    "        return root\n",
    "\n",
    "    def leftRotate(self, mainNode):\n",
    "        replace = mainNode.rightSite\n",
    "        child = replace.leftSite\n",
    "\n",
    "        replace.leftSite = mainNode\n",
    "        mainNode.rightSite = child\n",
    "\n",
    "        mainNode.height = 1 + max(self.getHeight(mainNode.leftSite),self.getHeight(mainNode.rightSite))\n",
    "\n",
    "        replace.height = 1 + max(self.getHeight(replace.leftSite),self.getHeight(replace.rightSite))\n",
    "\n",
    "        return replace\n",
    "\n",
    "    def rightRotate(self, mainNode):\n",
    "        replace = mainNode.leftSite\n",
    "        child = replace.rightSite\n",
    "\n",
    "        replace.rightSite = mainNode\n",
    "        mainNode.leftSite = child\n",
    "\n",
    "        mainNode.height = 1 + max(self.getHeight(mainNode.leftSite), self.getHeight(mainNode.rightSite))\n",
    "\n",
    "        replace.height = 1 + max(self.getHeight(replace.leftSite), self.getHeight(replace.rightSite))\n",
    "\n",
    "        return replace\n",
    "    def displayStudent(self, item):\n",
    "        print(\"Name   : \", item.name)\n",
    "        print(\"Surname : \", item.surname)\n",
    "        print(\"Index No. : \", item.key)\n",
    "        print('\\n')\n",
    "    def displayPreorder(self,root):\n",
    "        # print(root.key)\n",
    "        if not root:\n",
    "            return\n",
    "        self.displayStudent(root)\n",
    "        self.displayPreorder(root.leftSite)\n",
    "        self.displayPreorder(root.rightSite)\n",
    "\n",
    "\n",
    "    def findStudent(self,root,number):\n",
    "        if root is None or root.key == number:\n",
    "            return print(\"Student found in AVL\")\n",
    "        if root.key < number:\n",
    "            return self.findStudent(root.rightSite, number)\n",
    "        return self.findStudent(root.leftSite, number)\n",
    "\n"
   ]
  },
  {
   "cell_type": "markdown",
   "metadata": {
    "colab_type": "text",
    "id": "7mZ0gleJzqfJ"
   },
   "source": [
    "Insert all items to AVL from .txt file:\n"
   ]
  },
  {
   "cell_type": "code",
   "execution_count": 0,
   "metadata": {
    "colab": {},
    "colab_type": "code",
    "id": "Dg6MnsnQzqCN"
   },
   "outputs": [],
   "source": [
    "def insertAVL(AVL,root):\n",
    "  f = open(\"listOfStudents.txt\",\"r\")\n",
    "\n",
    "  for i in f:\n",
    "    student = i.split(',')\n",
    "    root = AVL.insertStudent(root,AVLNode(student[0],student[1],int(student[2])))\n",
    "  f.close() \n",
    "  return"
   ]
  },
  {
   "cell_type": "markdown",
   "metadata": {
    "colab_type": "text",
    "id": "AqY-0qyFtk8p"
   },
   "source": [
    "### Testing AVL tree:\n"
   ]
  },
  {
   "cell_type": "code",
   "execution_count": 89,
   "metadata": {
    "colab": {
     "base_uri": "https://localhost:8080/",
     "height": 527
    },
    "colab_type": "code",
    "id": "o2yYB-z8tm-t",
    "outputId": "0908080d-4383-4180-f1fc-eda47f75a68e"
   },
   "outputs": [
    {
     "name": "stdout",
     "output_type": "stream",
     "text": [
      "Name   :  Karol\n",
      "Surname :  Duży\n",
      "Index No. :  35\n",
      "\n",
      "\n",
      "Name   :  Jan\n",
      "Surname :  Kot\n",
      "Index No. :  30\n",
      "\n",
      "\n",
      "Name   :  Bartek\n",
      "Surname :  Maslanka\n",
      "Index No. :  5\n",
      "\n",
      "\n",
      "Name   :  Justyna\n",
      "Surname :  Zła\n",
      "Index No. :  32\n",
      "\n",
      "\n",
      "Name   :  Maria\n",
      "Surname :  Mała\n",
      "Index No. :  40\n",
      "\n",
      "\n",
      "Name   :  Michał\n",
      "Surname :  Kowalski\n",
      "Index No. :  45\n",
      "\n",
      "\n"
     ]
    }
   ],
   "source": [
    "avl = AVLTree()\n",
    "root = None\n",
    "\n",
    "root = avl.insertStudent(root,AVLNode('Jan', 'Kot', 30))\n",
    "root = avl.insertStudent(root,AVLNode('Bartek', 'Maslanka', 5))\n",
    "root = avl.insertStudent(root,AVLNode('Karol', 'Duży', 35))\n",
    "root = avl.insertStudent(root,AVLNode('Justyna', 'Zła', 32))\n",
    "root = avl.insertStudent(root,AVLNode('Maria', 'Mała', 40))\n",
    "root = avl.insertStudent(root,AVLNode('Michał', 'Kowalski', 45))\n",
    "\n",
    "avl.displayPreorder(root)"
   ]
  },
  {
   "cell_type": "markdown",
   "metadata": {
    "colab_type": "text",
    "id": "GM73O6FFwqA2"
   },
   "source": [
    "Test finfStudent function:"
   ]
  },
  {
   "cell_type": "code",
   "execution_count": 99,
   "metadata": {
    "colab": {
     "base_uri": "https://localhost:8080/",
     "height": 34
    },
    "colab_type": "code",
    "id": "MoQUaAsrwuxz",
    "outputId": "7ce203fc-fd68-486d-d173-fce070157f73"
   },
   "outputs": [
    {
     "name": "stdout",
     "output_type": "stream",
     "text": [
      "Student found in AVL\n"
     ]
    }
   ],
   "source": [
    "avl.findStudent(root, 5)"
   ]
  },
  {
   "cell_type": "markdown",
   "metadata": {
    "colab_type": "text",
    "id": "7FMslXxVyTGQ"
   },
   "source": [
    "## Create .txt  file:\n"
   ]
  },
  {
   "cell_type": "code",
   "execution_count": 0,
   "metadata": {
    "colab": {},
    "colab_type": "code",
    "id": "pIfvavBWyYb2"
   },
   "outputs": [],
   "source": [
    "listGen(15000)"
   ]
  },
  {
   "cell_type": "markdown",
   "metadata": {
    "colab_type": "text",
    "id": "wGcIQ1UJy1mq"
   },
   "source": [
    "Create AVL, BST and LinkedList:\n"
   ]
  },
  {
   "cell_type": "code",
   "execution_count": 0,
   "metadata": {
    "colab": {},
    "colab_type": "code",
    "id": "gncvXwPyy6Eh"
   },
   "outputs": [],
   "source": [
    "from random import randint\n",
    "avl = AVLTree()\n",
    "testLinkedList = LinkedList()\n",
    "root = None\n",
    "BSTroot = None\n",
    "\n",
    "f = open(\"listOfStudents.txt\",\"r\")\n",
    "for i in f:\n",
    "  student = i.split(',')\n",
    "  root = avl.insertStudent(root,AVLNode(student[0],student[1],int(student[2])))\n",
    "f.close() \n",
    "\n",
    "BSTroot = insertBST(BSTroot)\n",
    "insertLLis(testLinkedList)"
   ]
  },
  {
   "cell_type": "markdown",
   "metadata": {
    "colab_type": "text",
    "id": "xmOqKT0c1VVk"
   },
   "source": [
    "Create results:"
   ]
  },
  {
   "cell_type": "code",
   "execution_count": 105,
   "metadata": {
    "colab": {
     "base_uri": "https://localhost:8080/",
     "height": 1000
    },
    "colab_type": "code",
    "id": "Diqed1CW1XA7",
    "outputId": "05457ed1-5070-4d37-fdbe-e0533e9aba19"
   },
   "outputs": [
    {
     "name": "stdout",
     "output_type": "stream",
     "text": [
      "Student found in AVL\n",
      "Student found in BST\n",
      "Student found in LinkedList\n",
      "Student found in AVL\n",
      "Student found in BST\n",
      "Student found in LinkedList\n",
      "Student found in AVL\n",
      "Student found in BST\n",
      "Student found in LinkedList\n",
      "Student found in AVL\n",
      "Student found in BST\n",
      "Student found in LinkedList\n",
      "Student found in AVL\n",
      "Student found in BST\n",
      "Student found in LinkedList\n",
      "Student found in AVL\n",
      "Student found in BST\n",
      "Student found in LinkedList\n",
      "Student found in AVL\n",
      "Student found in BST\n",
      "Student found in LinkedList\n",
      "Student found in AVL\n",
      "Student found in BST\n",
      "Student found in LinkedList\n",
      "Student found in AVL\n",
      "Student found in BST\n",
      "Student found in LinkedList\n",
      "Student found in AVL\n",
      "Student found in BST\n",
      "Student found in LinkedList\n",
      "Student found in AVL\n",
      "Student found in BST\n",
      "Student found in LinkedList\n",
      "Student found in AVL\n",
      "Student found in BST\n",
      "Student found in LinkedList\n",
      "Student found in AVL\n",
      "Student found in BST\n",
      "Student found in LinkedList\n",
      "Student found in AVL\n",
      "Student found in BST\n",
      "Student found in LinkedList\n",
      "Student found in AVL\n",
      "Student found in BST\n",
      "Student found in LinkedList\n",
      "Student found in AVL\n",
      "Student found in BST\n",
      "Student found in LinkedList\n",
      "Student found in AVL\n",
      "Student found in BST\n",
      "Student found in LinkedList\n",
      "Student found in AVL\n",
      "Student found in BST\n",
      "Student found in LinkedList\n",
      "Student found in AVL\n",
      "Student found in BST\n",
      "Student found in LinkedList\n",
      "Student found in AVL\n",
      "Student found in BST\n",
      "Student found in LinkedList\n",
      "Student found in AVL\n",
      "Student found in BST\n",
      "Student found in LinkedList\n",
      "Student found in AVL\n",
      "Student found in BST\n",
      "Student found in LinkedList\n",
      "Student found in AVL\n",
      "Student found in BST\n",
      "Student found in LinkedList\n",
      "Student found in AVL\n",
      "Student found in BST\n",
      "Student found in LinkedList\n",
      "Student found in AVL\n",
      "Student found in BST\n",
      "Student found in LinkedList\n",
      "Student found in AVL\n",
      "Student found in BST\n",
      "Student found in LinkedList\n",
      "Student found in AVL\n",
      "Student found in BST\n",
      "Student found in LinkedList\n",
      "Student found in AVL\n",
      "Student found in BST\n",
      "Student found in LinkedList\n",
      "Student found in AVL\n",
      "Student found in BST\n",
      "Student found in LinkedList\n",
      "Student found in AVL\n",
      "Student found in BST\n",
      "Student found in LinkedList\n",
      "Student found in AVL\n",
      "Student found in BST\n",
      "Student found in LinkedList\n",
      "Student found in AVL\n",
      "Student found in BST\n",
      "Student found in LinkedList\n",
      "Student found in AVL\n",
      "Student found in BST\n",
      "Student found in LinkedList\n",
      "Student found in AVL\n",
      "Student found in BST\n",
      "Student found in LinkedList\n",
      "Student found in AVL\n",
      "Student found in BST\n",
      "Student found in LinkedList\n",
      "Student found in AVL\n",
      "Student found in BST\n",
      "Student found in LinkedList\n",
      "Student found in AVL\n",
      "Student found in BST\n",
      "Student found in LinkedList\n",
      "Student found in AVL\n",
      "Student found in BST\n",
      "Student found in LinkedList\n",
      "Student found in AVL\n",
      "Student found in BST\n",
      "Student found in LinkedList\n",
      "Student found in AVL\n",
      "Student found in BST\n",
      "Student found in LinkedList\n",
      "Student found in AVL\n",
      "Student found in BST\n",
      "Student found in LinkedList\n",
      "Student found in AVL\n",
      "Student found in BST\n",
      "Student found in LinkedList\n",
      "Student found in AVL\n",
      "Student found in BST\n",
      "Student found in LinkedList\n",
      "Student found in AVL\n",
      "Student found in BST\n",
      "Student found in LinkedList\n",
      "Student found in AVL\n",
      "Student found in BST\n",
      "Student found in LinkedList\n",
      "Student found in AVL\n",
      "Student found in BST\n",
      "Student found in LinkedList\n",
      "Student found in AVL\n",
      "Student found in BST\n",
      "Student found in LinkedList\n",
      "Student found in AVL\n",
      "Student found in BST\n",
      "Student found in LinkedList\n",
      "Student found in AVL\n",
      "Student found in BST\n",
      "Student found in LinkedList\n",
      "Student found in AVL\n",
      "Student found in BST\n",
      "Student found in LinkedList\n",
      "Student found in AVL\n",
      "Student found in BST\n",
      "Student found in LinkedList\n",
      "Student found in AVL\n",
      "Student found in BST\n",
      "Student found in LinkedList\n",
      "Student found in AVL\n",
      "Student found in BST\n",
      "Student found in LinkedList\n",
      "Student found in AVL\n",
      "Student found in BST\n",
      "Student found in LinkedList\n",
      "Student found in AVL\n",
      "Student found in BST\n",
      "Student found in LinkedList\n",
      "Student found in AVL\n",
      "Student found in BST\n",
      "Student found in LinkedList\n",
      "Student found in AVL\n",
      "Student found in BST\n",
      "Student found in LinkedList\n",
      "Student found in AVL\n",
      "Student found in BST\n",
      "Student found in LinkedList\n",
      "Student found in AVL\n",
      "Student found in BST\n",
      "Student found in LinkedList\n",
      "Student found in AVL\n",
      "Student found in BST\n",
      "Student found in LinkedList\n",
      "Student found in AVL\n",
      "Student found in BST\n",
      "Student found in LinkedList\n",
      "Student found in AVL\n",
      "Student found in BST\n",
      "Student found in LinkedList\n",
      "Student found in AVL\n",
      "Student found in BST\n",
      "Student found in LinkedList\n",
      "Student found in AVL\n",
      "Student found in BST\n",
      "Student found in LinkedList\n",
      "Student found in AVL\n",
      "Student found in BST\n",
      "Student found in LinkedList\n",
      "Student found in AVL\n",
      "Student found in BST\n",
      "Student found in LinkedList\n",
      "Student found in AVL\n",
      "Student found in BST\n",
      "Student found in LinkedList\n",
      "Student found in AVL\n",
      "Student found in BST\n",
      "Student found in LinkedList\n",
      "Student found in AVL\n",
      "Student found in BST\n",
      "Student found in LinkedList\n",
      "Student found in AVL\n",
      "Student found in BST\n",
      "Student found in LinkedList\n",
      "Student found in AVL\n",
      "Student found in BST\n",
      "Student found in LinkedList\n",
      "Student found in AVL\n",
      "Student found in BST\n",
      "Student found in LinkedList\n",
      "Student found in AVL\n",
      "Student found in BST\n",
      "Student found in LinkedList\n",
      "Student found in AVL\n",
      "Student found in BST\n",
      "Student found in LinkedList\n",
      "Student found in AVL\n",
      "Student found in BST\n",
      "Student found in LinkedList\n",
      "Student found in AVL\n",
      "Student found in BST\n",
      "Student found in LinkedList\n",
      "Student found in AVL\n",
      "Student found in BST\n",
      "Student found in LinkedList\n",
      "Student found in AVL\n",
      "Student found in BST\n",
      "Student found in LinkedList\n",
      "Student found in AVL\n",
      "Student found in BST\n",
      "Student found in LinkedList\n",
      "Student found in AVL\n",
      "Student found in BST\n",
      "Student found in LinkedList\n",
      "Student found in AVL\n",
      "Student found in BST\n",
      "Student found in LinkedList\n",
      "Student found in AVL\n",
      "Student found in BST\n",
      "Student found in LinkedList\n",
      "Student found in AVL\n",
      "Student found in BST\n",
      "Student found in LinkedList\n",
      "Student found in AVL\n",
      "Student found in BST\n",
      "Student found in LinkedList\n",
      "Student found in AVL\n",
      "Student found in BST\n",
      "Student found in LinkedList\n",
      "Student found in AVL\n",
      "Student found in BST\n",
      "Student found in LinkedList\n",
      "Student found in AVL\n",
      "Student found in BST\n",
      "Student found in LinkedList\n",
      "Student found in AVL\n",
      "Student found in BST\n",
      "Student found in LinkedList\n",
      "Student found in AVL\n",
      "Student found in BST\n",
      "Student found in LinkedList\n",
      "Student found in AVL\n",
      "Student found in BST\n",
      "Student found in LinkedList\n",
      "Student found in AVL\n",
      "Student found in BST\n",
      "Student found in LinkedList\n",
      "Student found in AVL\n",
      "Student found in BST\n",
      "Student found in LinkedList\n",
      "Student found in AVL\n",
      "Student found in BST\n",
      "Student found in LinkedList\n",
      "Student found in AVL\n",
      "Student found in BST\n",
      "Student found in LinkedList\n",
      "Student found in AVL\n",
      "Student found in BST\n",
      "Student found in LinkedList\n",
      "Student found in AVL\n",
      "Student found in BST\n",
      "Student found in LinkedList\n",
      "Student found in AVL\n",
      "Student found in BST\n",
      "Student found in LinkedList\n",
      "Student found in AVL\n",
      "Student found in BST\n",
      "Student found in LinkedList\n",
      "Student found in AVL\n",
      "Student found in BST\n",
      "Student found in LinkedList\n",
      "Student found in AVL\n",
      "Student found in BST\n",
      "Student found in LinkedList\n"
     ]
    }
   ],
   "source": [
    "TimeTabFind = [[],[],[]]\n",
    "for i in range(100):\n",
    "  item = randint(0,15000)\n",
    "\n",
    "  Timefind = time.time()\n",
    "  avl.findStudent(root, item)\n",
    "  TimeTabFind[0].append(time.time()-Timefind)\n",
    "\n",
    "  Timefind = time.time()\n",
    "  findStudent(BSTroot, item)\n",
    "  TimeTabFind[1].append(time.time()-Timefind)\n",
    "\n",
    "  Timefind = time.time()\n",
    "  testLinkedList.findStudent(item)\n",
    "  TimeTabFind[2].append(time.time()-Timefind)\n"
   ]
  },
  {
   "cell_type": "markdown",
   "metadata": {
    "colab_type": "text",
    "id": "xtm_jIY5ZzFk"
   },
   "source": [
    "Create plot:"
   ]
  },
  {
   "cell_type": "code",
   "execution_count": 107,
   "metadata": {
    "colab": {
     "base_uri": "https://localhost:8080/",
     "height": 85
    },
    "colab_type": "code",
    "id": "Q3scVbE761ai",
    "outputId": "b8c9280e-cf4e-4d49-d610-95500b4467f6"
   },
   "outputs": [
    {
     "name": "stdout",
     "output_type": "stream",
     "text": [
      "Average time of searching element in 15000 elements: \n",
      "\n",
      "            AVL  LinekdList       BST\n",
      "15000  0.000111    0.000162  0.001317\n"
     ]
    }
   ],
   "source": [
    "data = {'AVL':TimeTabFind[0],'LinekdList':TimeTabFind[1],'BST':TimeTabFind[2]}\n",
    "index = [15000]\n",
    "df = pd.DataFrame(data,index)\n",
    "print('Average time of searching element in 15000 elements:','\\n')\n",
    "print(df)"
   ]
  },
  {
   "cell_type": "code",
   "execution_count": 106,
   "metadata": {
    "colab": {
     "base_uri": "https://localhost:8080/",
     "height": 366
    },
    "colab_type": "code",
    "id": "qow2XQdmDiEz",
    "outputId": "699ae687-e30d-46a0-d3d7-5f5816a4564c"
   },
   "outputs": [
    {
     "data": {
      "image/png": "[encoded data removed]",
      "text/plain": [
       "<Figure size 432x288 with 1 Axes>"
      ]
     },
     "metadata": {
      "needs_background": "light",
      "tags": []
     },
     "output_type": "display_data"
    }
   ],
   "source": [
    "for i in range(len(TimeTabFind)):\n",
    "  TimeTabFind[i] = np.mean(TimeTabFind[i])\n",
    "fig = plt.figure()\n",
    "ax =fig.add_axes([0,0,1,1])\n",
    "structures = ['AVL', 'BST', 'LinkedList']\n",
    "plt.xlabel(\"number of elements in the list\")\n",
    "plt.ylabel(\"tiem [s]\")\n",
    "plt.title(\"Chart: t[s] = f(n) (Finding item)\")\n",
    "ax.bar(structures,TimeTabFind)\n",
    "plt.show()"
   ]
  },
  {
   "cell_type": "markdown",
   "metadata": {
    "colab_type": "text",
    "id": "hkkXwZifa4sr"
   },
   "source": [
    "#IV.Present the conclusions and remarks from the experiments."
   ]
  },
  {
   "cell_type": "code",
   "execution_count": 0,
   "metadata": {
    "colab": {},
    "colab_type": "code",
    "id": "2hi5Mx6noDbC"
   },
   "outputs": [],
   "source": []
  },
  {
   "cell_type": "markdown",
   "metadata": {
    "colab_type": "text",
    "id": "kNKQOl43bFUa"
   },
   "source": [
    "The results of performed experiments coincide with theoretical assumptions. BST is significantly faster with removeing elements from structure(Average Time Complexity = Θ(log(n))) and in inserting elements to structureAverage Time Complexity = Θ(log(n))). This is because the linked list has only one pointer to another element(next), as a result, when we add an element in inorder, we must visit every element smaller than the one added(\n",
    "while it uses less memory than BST), unlike BST which has two markers( left child, right child), thanks to which we divide all elements into bigger and smaller ones than the main root. BTS is better choice in big structures but it is more difficult(dleting function is the hardest) to implement than LinkedList.\n",
    "\n",
    "AVL - AVL tree is a self-balancing Binary Search Tree (BST) where the difference between heights of left and right subtrees cannot be more than one for all nodes. AVL is ofcorse faster than BST, but AVL consume more memory(each node has to remember its balance factor) and each operation can be slower (because you need to maintain the balance factor and sometimes perform rotations). BST has, avery bad linear worstcase (0(n)) \n",
    "but if it's not that bad for us then BST will be a better option for us becouse AVL is more complicated( it takes longer to write, is harder to read and understand and is more likly to contain bugs).\n",
    "\n",
    "\n",
    "In summary, a reasonable solution is to use the BST structure, it gives us satisfying results which are not as difficult as AVL but not as simple as LinkedList implementation.\n",
    "\n",
    "Time Complexity table:\n",
    "(https://drive.google.com/file/d/1lt2gJnYZ3rHMC8y7xrRduhDHgkB5W6aM/view?usp=sharing)\n",
    "\n",
    "\n",
    "\n"
   ]
  },
  {
   "cell_type": "markdown",
   "metadata": {
    "colab_type": "text",
    "id": "AdCm74t0pJrr"
   },
   "source": [
    "Created by: Bartosz Maślanka 144091"
   ]
  }
 ],
 "metadata": {
  "colab": {
   "collapsed_sections": [],
   "name": "LinkedList,BST,AVL.ipynb",
   "provenance": [],
   "toc_visible": true
  },
  "kernelspec": {
   "display_name": "Python 3",
   "language": "python",
   "name": "python3"
  },
  "language_info": {
   "codemirror_mode": {
    "name": "ipython",
    "version": 3
   },
   "file_extension": ".py",
   "mimetype": "text/x-python",
   "name": "python",
   "nbconvert_exporter": "python",
   "pygments_lexer": "ipython3",
   "version": "3.7.5"
  }
 },
 "nbformat": 4,
 "nbformat_minor": 1
}
