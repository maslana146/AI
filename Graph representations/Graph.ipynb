{
 "cells": [
  {
   "cell_type": "markdown",
   "metadata": {},
   "source": [
    "# Topic: Graph algorithms"
   ]
  },
  {
   "cell_type": "markdown",
   "metadata": {},
   "source": [
    "## 1. For a randomly generated undirected input graph (the input graph is a text file in such a way that any graph can be entered), examine the time of obtaining information about the existence of edges between a pair of random vertices, for each of the graph representations listed above. Perform tests for all elements randomly selecting individual vertices. Calculate the average search time by adding up the search times for individual elements and dividing this sum by the number of elements (number of vertices in the graph - n, saturation of the graph with edges 0.6). Graph t = f (n) for each representation; on one chart, for each search."
   ]
  },
  {
   "cell_type": "code",
   "execution_count": 166,
   "metadata": {},
   "outputs": [],
   "source": [
    "import numpy as np\n",
    "import random\n",
    "import matplotlib.pyplot as plt\n",
    "import time"
   ]
  },
  {
   "cell_type": "markdown",
   "metadata": {},
   "source": [
    "## Graph generator"
   ]
  },
  {
   "cell_type": "markdown",
   "metadata": {},
   "source": [
    "Generating random graph (saturation of the graph with edges 0.6)"
   ]
  },
  {
   "cell_type": "code",
   "execution_count": 181,
   "metadata": {},
   "outputs": [],
   "source": [
    "def genGraph(N):\n",
    "    adjacencyMatrix = np.tril(np.random.choice([0,1],(N,N), p=[0.4,0.6]),-1)\n",
    "    for i in range(N):\n",
    "        for j in range(N):\n",
    "            if adjacencyMatrix[i][j] == 1:\n",
    "                adjacencyMatrix[j][i] = 1\n",
    "\n",
    "    with open('text.txt', 'w+') as file:\n",
    "        np.savetxt(file,adjacencyMatrix ,fmt='%d')"
   ]
  },
  {
   "cell_type": "code",
   "execution_count": 186,
   "metadata": {},
   "outputs": [],
   "source": [
    "N = 7\n",
    "genGraph(N)"
   ]
  },
  {
   "cell_type": "markdown",
   "metadata": {},
   "source": [
    "## Edge list "
   ]
  },
  {
   "cell_type": "markdown",
   "metadata": {},
   "source": [
    "An edge list is a data structure used to represent a graph as a list of its edges."
   ]
  },
  {
   "cell_type": "code",
   "execution_count": 187,
   "metadata": {},
   "outputs": [],
   "source": [
    "def edgeLIST():   \n",
    "    edgeList = []\n",
    "    adjacencyMatrix = np.loadtxt('text.txt')\n",
    "    for i in range(len(adjacencyMatrix)):\n",
    "        for j in range(len(adjacencyMatrix)):\n",
    "            if adjacencyMatrix[i][j] == 1:\n",
    "                edgeList.append((i,j))\n",
    "    return edgeList"
   ]
  },
  {
   "cell_type": "code",
   "execution_count": 188,
   "metadata": {},
   "outputs": [
    {
     "name": "stdout",
     "output_type": "stream",
     "text": [
      "[(0, 1), (0, 3), (0, 4), (0, 5), (1, 0), (1, 2), (1, 3), (1, 4), (1, 6), (2, 1), (2, 3), (2, 4), (2, 5), (2, 6), (3, 0), (3, 1), (3, 2), (3, 5), (4, 0), (4, 1), (4, 2), (4, 5), (4, 6), (5, 0), (5, 2), (5, 3), (5, 4), (5, 6), (6, 1), (6, 2), (6, 4), (6, 5)]\n"
     ]
    }
   ],
   "source": [
    "edgeList = edgeLIST()\n",
    "print(edgeList)"
   ]
  },
  {
   "cell_type": "markdown",
   "metadata": {},
   "source": [
    "### Find edge in \"Edge list\":"
   ]
  },
  {
   "cell_type": "code",
   "execution_count": 189,
   "metadata": {},
   "outputs": [],
   "source": [
    "def findEdgeEL(edgeList, start, end):\n",
    "    if (start,end) in edgeList or (end,start) in edgeList:\n",
    "        return 'YES'\n",
    "    else:\n",
    "        return 'NO'"
   ]
  },
  {
   "cell_type": "code",
   "execution_count": 190,
   "metadata": {},
   "outputs": [
    {
     "data": {
      "text/plain": [
       "'YES'"
      ]
     },
     "execution_count": 190,
     "metadata": {},
     "output_type": "execute_result"
    }
   ],
   "source": [
    "findEdgeEL(edgeList,2,5)"
   ]
  },
  {
   "cell_type": "markdown",
   "metadata": {},
   "source": [
    "## Adjacency list"
   ]
  },
  {
   "cell_type": "markdown",
   "metadata": {},
   "source": [
    "In graph theory and computer science, an adjacency list is a collection of unordered lists used to represent a finite graph. Each list describes the set of neighbors of a vertex in the graph. This is one of several commonly used representations of graphs for use in computer programs."
   ]
  },
  {
   "cell_type": "code",
   "execution_count": 191,
   "metadata": {},
   "outputs": [],
   "source": [
    "def adjLIST(N, edgeList):    \n",
    "    adjList = [set([]) for i in range(N)]\n",
    "\n",
    "    for edge in edgeList:\n",
    "        start = edge[0]\n",
    "        end = edge[1]\n",
    "        adjList[start].add(end)\n",
    "        \n",
    "    return adjList"
   ]
  },
  {
   "cell_type": "code",
   "execution_count": 192,
   "metadata": {},
   "outputs": [
    {
     "name": "stdout",
     "output_type": "stream",
     "text": [
      "0  {1, 3, 4, 5}\n",
      "1  {0, 2, 3, 4, 6}\n",
      "2  {1, 3, 4, 5, 6}\n",
      "3  {0, 1, 2, 5}\n",
      "4  {0, 1, 2, 5, 6}\n",
      "5  {0, 2, 3, 4, 6}\n",
      "6  {1, 2, 4, 5}\n"
     ]
    }
   ],
   "source": [
    "adjList = adjLIST(N, edgeList)\n",
    "\n",
    "for vertex in range(len(adjList)):\n",
    "    print(vertex,'',adjList[vertex])"
   ]
  },
  {
   "cell_type": "markdown",
   "metadata": {},
   "source": [
    "### Find edge in \"Adjacency list\":"
   ]
  },
  {
   "cell_type": "code",
   "execution_count": 193,
   "metadata": {},
   "outputs": [],
   "source": [
    "def findEdgeADJL(adjList,start,end):\n",
    "    if end in adjList[start] or start in adjList[end]:\n",
    "        return 'YES'\n",
    "    else:\n",
    "        return 'NO'"
   ]
  },
  {
   "cell_type": "code",
   "execution_count": 11,
   "metadata": {},
   "outputs": [
    {
     "data": {
      "text/plain": [
       "'YES'"
      ]
     },
     "execution_count": 11,
     "metadata": {},
     "output_type": "execute_result"
    }
   ],
   "source": [
    "findEdgeADJL(adjList,2,1)"
   ]
  },
  {
   "cell_type": "markdown",
   "metadata": {},
   "source": [
    "## Adjacency matrix"
   ]
  },
  {
   "cell_type": "markdown",
   "metadata": {},
   "source": [
    "In graph theory and computer science, an adjacency matrix is a square matrix used to represent a finite graph. The elements of the matrix indicate whether pairs of vertices are adjacent or not in the graph."
   ]
  },
  {
   "cell_type": "code",
   "execution_count": 197,
   "metadata": {},
   "outputs": [],
   "source": [
    "def adjMATRIX(N):\n",
    "    adjMatrix = np.loadtxt('text.txt')\n",
    "    return adjMatrix    "
   ]
  },
  {
   "cell_type": "code",
   "execution_count": 198,
   "metadata": {},
   "outputs": [
    {
     "name": "stdout",
     "output_type": "stream",
     "text": [
      "[[0. 1. 0. 1. 1. 1. 0.]\n",
      " [1. 0. 1. 1. 1. 0. 1.]\n",
      " [0. 1. 0. 1. 1. 1. 1.]\n",
      " [1. 1. 1. 0. 0. 1. 0.]\n",
      " [1. 1. 1. 0. 0. 1. 1.]\n",
      " [1. 0. 1. 1. 1. 0. 1.]\n",
      " [0. 1. 1. 0. 1. 1. 0.]]\n"
     ]
    }
   ],
   "source": [
    "adjMatrix = adjMATRIX(N)\n",
    "print(adjMatrix)"
   ]
  },
  {
   "cell_type": "markdown",
   "metadata": {},
   "source": [
    "### Find edge in \"Adjacency matrix\":"
   ]
  },
  {
   "cell_type": "code",
   "execution_count": 199,
   "metadata": {},
   "outputs": [],
   "source": [
    "def findEdgeADJM(adjMatrix, start, end):\n",
    "    if adjMatrix[start][end] == 1 or adjMatrix[end][start] == 1:\n",
    "        return 'YES'\n",
    "    else:\n",
    "        return 'NO'"
   ]
  },
  {
   "cell_type": "code",
   "execution_count": 200,
   "metadata": {},
   "outputs": [
    {
     "data": {
      "text/plain": [
       "'YES'"
      ]
     },
     "execution_count": 200,
     "metadata": {},
     "output_type": "execute_result"
    }
   ],
   "source": [
    "findEdgeADJM(adjMatrix, 2, 3)"
   ]
  },
  {
   "cell_type": "markdown",
   "metadata": {},
   "source": [
    "## Incidence Matrix"
   ]
  },
  {
   "cell_type": "markdown",
   "metadata": {},
   "source": [
    "In mathematics, an incidence matrix is a matrix that shows the relationship between two classes of objects(vertices and edges). If the first class is X and the second is Y, the matrix has one row for each element of X and one column for each element of Y. The entry in row x and column y is 1 if x and y are related (called incident in this context) and 0 if they are not. "
   ]
  },
  {
   "cell_type": "code",
   "execution_count": 201,
   "metadata": {},
   "outputs": [],
   "source": [
    "def incMATRIX(N,edgeList):\n",
    "    INCMatrix = np.zeros((N,len(edgeList)))\n",
    "    for idx,edge in enumerate(edgeList):\n",
    "        INCMatrix[edge[0]][idx] = 1\n",
    "        INCMatrix[edge[1]][idx] = 1\n",
    "    return INCMatrix\n"
   ]
  },
  {
   "cell_type": "code",
   "execution_count": 202,
   "metadata": {},
   "outputs": [
    {
     "name": "stdout",
     "output_type": "stream",
     "text": [
      "[[1. 1. 1. 1. 1. 0. 0. 0. 0. 0. 0. 0. 0. 0. 1. 0. 0. 0. 1. 0. 0. 0. 0. 1.\n",
      "  0. 0. 0. 0. 0. 0. 0. 0.]\n",
      " [1. 0. 0. 0. 1. 1. 1. 1. 1. 1. 0. 0. 0. 0. 0. 1. 0. 0. 0. 1. 0. 0. 0. 0.\n",
      "  0. 0. 0. 0. 1. 0. 0. 0.]\n",
      " [0. 0. 0. 0. 0. 1. 0. 0. 0. 1. 1. 1. 1. 1. 0. 0. 1. 0. 0. 0. 1. 0. 0. 0.\n",
      "  1. 0. 0. 0. 0. 1. 0. 0.]\n",
      " [0. 1. 0. 0. 0. 0. 1. 0. 0. 0. 1. 0. 0. 0. 1. 1. 1. 1. 0. 0. 0. 0. 0. 0.\n",
      "  0. 1. 0. 0. 0. 0. 0. 0.]\n",
      " [0. 0. 1. 0. 0. 0. 0. 1. 0. 0. 0. 1. 0. 0. 0. 0. 0. 0. 1. 1. 1. 1. 1. 0.\n",
      "  0. 0. 1. 0. 0. 0. 1. 0.]\n",
      " [0. 0. 0. 1. 0. 0. 0. 0. 0. 0. 0. 0. 1. 0. 0. 0. 0. 1. 0. 0. 0. 1. 0. 1.\n",
      "  1. 1. 1. 1. 0. 0. 0. 1.]\n",
      " [0. 0. 0. 0. 0. 0. 0. 0. 1. 0. 0. 0. 0. 1. 0. 0. 0. 0. 0. 0. 0. 0. 1. 0.\n",
      "  0. 0. 0. 1. 1. 1. 1. 1.]]\n"
     ]
    }
   ],
   "source": [
    "incMatrix = incMATRIX(N,edgeList)\n",
    "print(incMatrix)"
   ]
  },
  {
   "cell_type": "markdown",
   "metadata": {},
   "source": [
    "### Find edge in \"Incidence matrix\":"
   ]
  },
  {
   "cell_type": "code",
   "execution_count": 204,
   "metadata": {},
   "outputs": [],
   "source": [
    "def findEdgeINCM(incMatrix,start,end):\n",
    "    for col in range(len(incMatrix)):\n",
    "        if incMatrix[start][col] == 1 and incMatrix[end][col] == 1:\n",
    "            return 'YES'\n",
    "    return 'NO'"
   ]
  },
  {
   "cell_type": "code",
   "execution_count": 205,
   "metadata": {},
   "outputs": [
    {
     "data": {
      "text/plain": [
       "'YES'"
      ]
     },
     "execution_count": 205,
     "metadata": {},
     "output_type": "execute_result"
    }
   ],
   "source": [
    "findEdgeINCM(incMatrix,4,0)"
   ]
  },
  {
   "cell_type": "markdown",
   "metadata": {},
   "source": [
    "## Creating time table:"
   ]
  },
  {
   "cell_type": "code",
   "execution_count": null,
   "metadata": {},
   "outputs": [],
   "source": [
    "timeTab = [[] for i in range(4)]\n",
    "\n",
    "for i in range(0,1200,100):\n",
    "    sumTab = [[] for i in range(4)]\n",
    "    N = i \n",
    "    \n",
    "    genGraph(N)\n",
    "    edgeList = edgeLIST()\n",
    "    adjList = adjLIST(N, edgeList)\n",
    "    adjMatrix = adjMATRIX(N)\n",
    "    incMatrix = incMATRIX(N, edgeList)\n",
    "    for j in range(N):\n",
    "        \n",
    "        start = random.randint(0, N-1)\n",
    "        end = random.randint(0, N-1)\n",
    "\n",
    "        TimeEL = time.time()\n",
    "        findEdgeEL(edgeList, start, end)\n",
    "        sumTab[0].append(time.time() - TimeEL)\n",
    "\n",
    "        TimeAL = time.time()\n",
    "        findEdgeADJL(adjList, start, end)\n",
    "        sumTab[1].append(time.time() - TimeAL)\n",
    "\n",
    "        TimeAM = time.time()\n",
    "        findEdgeADJM(adjMatrix, start, end)\n",
    "        sumTab[2].append(time.time() - TimeAM)\n",
    "\n",
    "        TimeIM = time.time()\n",
    "        findEdgeINCM(incMatrix, start, end)\n",
    "        sumTab[3].append(time.time() - TimeIM)\n",
    "    sumTab = np.mean(sumTab, axis=1)\n",
    "    for idx, t in enumerate(sumTab):\n",
    "        timeTab[idx].append(t)\n",
    "    print(N)\n"
   ]
  },
  {
   "cell_type": "markdown",
   "metadata": {},
   "source": [
    "### Creaiting chart: t[s] = f(n=(number of vertices))"
   ]
  },
  {
   "cell_type": "code",
   "execution_count": 253,
   "metadata": {},
   "outputs": [
    {
     "data": {
      "image/png": "[encoded data removed]",
      "text/plain": [
       "<Figure size 432x288 with 1 Axes>"
      ]
     },
     "metadata": {
      "needs_background": "light"
     },
     "output_type": "display_data"
    }
   ],
   "source": [
    "numOfElem = [i for i in range(0,1200,100)]\n",
    "\n",
    "for i in timeTab:\n",
    "  plt.plot(numOfElem,list(i))\n",
    "plt.xlabel(\"number of elements\")\n",
    "plt.ylabel(\"tiem [s]\")\n",
    "plt.title(\"Chart: t[s] = f(n)\")\n",
    "plt.legend(['Edge List','Adjacency list','Adjacency matrix','Incidence matrix'])\n",
    "plt.show()"
   ]
  },
  {
   "cell_type": "code",
   "execution_count": 254,
   "metadata": {},
   "outputs": [
    {
     "data": {
      "image/png": "[encoded data removed]",
      "text/plain": [
       "<Figure size 432x288 with 1 Axes>"
      ]
     },
     "metadata": {
      "needs_background": "light"
     },
     "output_type": "display_data"
    }
   ],
   "source": [
    "numOfElem = [i for i in range(0,1200,100)]\n",
    "\n",
    "for i in timeTab[1:]:\n",
    "  plt.plot(numOfElem,list(i))\n",
    "plt.xlabel(\"number of elements\")\n",
    "plt.ylabel(\"tiem [s]\")\n",
    "plt.title(\"Chart: t[s] = f(n)\")\n",
    "plt.legend(['Adjacency list','Adjacency matrix','Incidence matrix'])\n",
    "plt.show()"
   ]
  },
  {
   "cell_type": "markdown",
   "metadata": {},
   "source": [
    "## 2. For a randomly generated DAG graph (n - vertices and edge saturation factor 0.3), use the topological order sorting procedure. Chart t = f (n) - time to create the sorted sequence. Justify the choice of graph representation. Give the advantages and disadvantages of the selected representation in comparison with the others."
   ]
  },
  {
   "cell_type": "markdown",
   "metadata": {},
   "source": [
    "**DAG** - In mathematics, particularly graph theory, and computer science, a directed acyclic graph is a finite directed graph with no directed cycles.\n",
    "\n",
    "**Directed cycles** - In graph theory, a cycle graph or circular graph is a graph that consists of a single cycle, or in other words, some number of vertices (at least 3) connected in a closed chain.\n",
    "\n",
    "**Topological sort** - In computer science, a topological sort or topological ordering of a directed graph is a linear ordering of its vertices such that for every directed edge (uv) from vertex u to vertex v, u comes before v in the ordering."
   ]
  },
  {
   "cell_type": "markdown",
   "metadata": {},
   "source": [
    "## DAG - Adjacency list"
   ]
  },
  {
   "cell_type": "markdown",
   "metadata": {},
   "source": [
    "Generating random Directed Acyclic Graph (saturation of the graph with edges 0.3)"
   ]
  },
  {
   "cell_type": "code",
   "execution_count": 242,
   "metadata": {},
   "outputs": [],
   "source": [
    "def DAGAdjacencyList(N):\n",
    "    DAG = [set([]) for i in range(N)]\n",
    "    x = 0\n",
    "    while x < (N*N-1)*0.5*0.3:\n",
    "        place = random.randint(0,N-1)\n",
    "        vertex = random.randint(place,N-1)\n",
    "        if vertex not in DAG[place]:\n",
    "            DAG[place].add(random.randint(place,N-1))\n",
    "            x += 1\n",
    "    return DAG"
   ]
  },
  {
   "cell_type": "code",
   "execution_count": 243,
   "metadata": {},
   "outputs": [
    {
     "name": "stdout",
     "output_type": "stream",
     "text": [
      "0  {9, 7}\n",
      "1  {4, 6}\n",
      "2  {9, 4}\n",
      "3  {9, 6}\n",
      "4  {7}\n",
      "5  {5}\n",
      "6  {7}\n",
      "7  set()\n",
      "8  {9}\n",
      "9  {9}\n"
     ]
    }
   ],
   "source": [
    "N = 10\n",
    "adjList = DAGAdjacencyList(N)\n",
    "for vertex in range(len(adjList)):\n",
    "    print(vertex,'',adjList[vertex])"
   ]
  },
  {
   "cell_type": "markdown",
   "metadata": {},
   "source": [
    "### Topological Sorting for \"Adjacency list\":"
   ]
  },
  {
   "cell_type": "code",
   "execution_count": 244,
   "metadata": {},
   "outputs": [],
   "source": [
    "def TopoSortADJMatrix(i, visited, sortedList, graph):\n",
    "    visited[i] = True\n",
    "    for j in graph[i]:\n",
    "\n",
    "        if visited[j] == False:\n",
    "            TopoSortADJMatrix(j, visited, sortedList, graph)\n",
    "    sortedList.insert(0, i)\n",
    "\n",
    "\n",
    "def TopologicalSortADJMatrix(graph):\n",
    "    number = len(graph)\n",
    "    visited = [False for i in range(number)]\n",
    "    sortedGraph = []\n",
    "    for i in range(number):\n",
    "        x = visited[i]\n",
    "        if visited[i] == False:\n",
    "            TopoSortADJMatrix(i, visited, sortedGraph, graph)\n",
    "    return sortedGraph"
   ]
  },
  {
   "cell_type": "code",
   "execution_count": 245,
   "metadata": {},
   "outputs": [
    {
     "name": "stdout",
     "output_type": "stream",
     "text": [
      "[8, 5, 3, 2, 1, 6, 4, 0, 7, 9]\n"
     ]
    }
   ],
   "source": [
    "print(TopologicalSortADJMatrix(adjList))"
   ]
  },
  {
   "cell_type": "markdown",
   "metadata": {},
   "source": [
    "## DAG - Edge List"
   ]
  },
  {
   "cell_type": "code",
   "execution_count": 246,
   "metadata": {},
   "outputs": [
    {
     "name": "stdout",
     "output_type": "stream",
     "text": [
      "[[0, 9], [0, 7], [1, 4], [1, 6], [2, 9], [2, 4], [3, 9], [3, 6], [4, 7], [5, 5], [6, 7], [8, 9], [9, 9]]\n"
     ]
    }
   ],
   "source": [
    "def DAGEdgeList(adjList):\n",
    "    edgeList = []\n",
    "    for idx, vertex in enumerate(adjList):\n",
    "        for i in vertex:\n",
    "            edgeList.append([idx,i])\n",
    "    return(edgeList)\n",
    "\n",
    "\n",
    "edgeList = DAGEdgeList(adjList)\n",
    "print(edgeList)"
   ]
  },
  {
   "cell_type": "markdown",
   "metadata": {},
   "source": [
    "### Topological Sorting for \"Edge list\":"
   ]
  },
  {
   "cell_type": "code",
   "execution_count": 247,
   "metadata": {},
   "outputs": [
    {
     "name": "stdout",
     "output_type": "stream",
     "text": [
      "[8, 5, 3, 2, 1, 6, 4, 0, 7, 9]\n"
     ]
    }
   ],
   "source": [
    "def TopoSortEdgelist(i, visited, sortedList, graph): \n",
    "    found = False                                   \n",
    "    not_leaf=False                                \n",
    "    for j in graph:\n",
    "        if j[0]==i:\n",
    "            if visited[j[1]] == False and j[0] != j[1]:\n",
    "                found=True\n",
    "                TopoSortEdgelist(j[1], visited, sortedList, graph)\n",
    " \n",
    "    if found==False:\n",
    "        sortedList.insert(0,i)\n",
    "        visited[i] = True\n",
    "    if found==True and not_leaf==False:\n",
    "        sortedList.insert(0,i)\n",
    "        visited[i] = True\n",
    "\n",
    "        \n",
    "def TopologicalSortEdgeList(size, graph):\n",
    "    visited = [False for i in range(size)]\n",
    "    sortedGraph = []\n",
    "    for i in range(size):\n",
    "        if visited[i] == False:\n",
    "            TopoSortEdgelist(i, visited, sortedGraph, graph)\n",
    "    return sortedGraph\n",
    "\n",
    "\n",
    "print(TopologicalSortEdgeList(N, edgeList))"
   ]
  },
  {
   "cell_type": "markdown",
   "metadata": {},
   "source": [
    "## DAG - Incidence matrix"
   ]
  },
  {
   "cell_type": "code",
   "execution_count": 248,
   "metadata": {},
   "outputs": [
    {
     "name": "stdout",
     "output_type": "stream",
     "text": [
      "[[-1. -1.  0.  0.  0.  0.  0.  0.  0.  0.  0.  0.  0.]\n",
      " [ 0.  0. -1. -1.  0.  0.  0.  0.  0.  0.  0.  0.  0.]\n",
      " [ 0.  0.  0.  0. -1. -1.  0.  0.  0.  0.  0.  0.  0.]\n",
      " [ 0.  0.  0.  0.  0.  0. -1. -1.  0.  0.  0.  0.  0.]\n",
      " [ 0.  0.  1.  0.  0.  1.  0.  0. -1.  0.  0.  0.  0.]\n",
      " [ 0.  0.  0.  0.  0.  0.  0.  0.  0.  1.  0.  0.  0.]\n",
      " [ 0.  0.  0.  1.  0.  0.  0.  1.  0.  0. -1.  0.  0.]\n",
      " [ 0.  1.  0.  0.  0.  0.  0.  0.  1.  0.  1.  0.  0.]\n",
      " [ 0.  0.  0.  0.  0.  0.  0.  0.  0.  0.  0. -1.  0.]\n",
      " [ 1.  0.  0.  0.  1.  0.  1.  0.  0.  0.  0.  1.  1.]]\n"
     ]
    }
   ],
   "source": [
    "def DAGincMATRIX(N,edgeList):\n",
    "    INCMatrix = np.zeros((N,len(edgeList)))\n",
    "    for idx, edge in enumerate(edgeList):\n",
    "        INCMatrix[edge[0]][idx] = -1\n",
    "        INCMatrix[edge[1]][idx] = 1\n",
    "    return INCMatrix\n",
    "\n",
    "\n",
    "incMatrix = DAGincMATRIX(N,edgeList)\n",
    "print(incMatrix)"
   ]
  },
  {
   "cell_type": "markdown",
   "metadata": {},
   "source": [
    "### Topological Sorting for \"Incidence Matrix\":"
   ]
  },
  {
   "cell_type": "code",
   "execution_count": 249,
   "metadata": {},
   "outputs": [
    {
     "name": "stdout",
     "output_type": "stream",
     "text": [
      "[8, 5, 3, 2, 1, 6, 4, 0, 7, 9]\n"
     ]
    }
   ],
   "source": [
    "def TopoSortINCMatrix(i,visited,sortedGraph,incMatrix):\n",
    "    visited[i] = True\n",
    "    row = []\n",
    "    for idx,col in enumerate(incMatrix[i]):\n",
    "        if col == -1:\n",
    "            edge = list(incMatrix[:,idx])\n",
    "            num = edge.index(1)\n",
    "\n",
    "            if visited[num] == False:\n",
    "                TopoSortINCMatrix(num,visited,sortedGraph,incMatrix)\n",
    "    sortedGraph.insert(0,i)\n",
    "\n",
    "\n",
    "def TopologicalSortINCMatrix(incMatrix):\n",
    "    visited = [False for i in range(len(incMatrix))]\n",
    "    sortedGraph = []    \n",
    "    for i in range(len(incMatrix)):\n",
    "        if visited[i] == False:\n",
    "            TopoSortINCMatrix(i,visited,sortedGraph,incMatrix)\n",
    "    return(sortedGraph)\n",
    "\n",
    "\n",
    "print(TopologicalSortINCMatrix(incMatrix))"
   ]
  },
  {
   "cell_type": "markdown",
   "metadata": {},
   "source": [
    "## DAG - Adjacency matrix"
   ]
  },
  {
   "cell_type": "code",
   "execution_count": 250,
   "metadata": {},
   "outputs": [
    {
     "name": "stdout",
     "output_type": "stream",
     "text": [
      "[[0. 0. 0. 0. 0. 0. 0. 1. 0. 1.]\n",
      " [0. 0. 0. 0. 1. 0. 1. 0. 0. 0.]\n",
      " [0. 0. 0. 0. 1. 0. 0. 0. 0. 1.]\n",
      " [0. 0. 0. 0. 0. 0. 1. 0. 0. 1.]\n",
      " [0. 0. 0. 0. 0. 0. 0. 1. 0. 0.]\n",
      " [0. 0. 0. 0. 0. 1. 0. 0. 0. 0.]\n",
      " [0. 0. 0. 0. 0. 0. 0. 1. 0. 0.]\n",
      " [0. 0. 0. 0. 0. 0. 0. 0. 0. 0.]\n",
      " [0. 0. 0. 0. 0. 0. 0. 0. 0. 1.]\n",
      " [0. 0. 0. 0. 0. 0. 0. 0. 0. 1.]]\n"
     ]
    }
   ],
   "source": [
    "def DAGadjMATRIX(adjList):\n",
    "    ADJMatrix = np.zeros((N,N))\n",
    "    for vertex in range(len(adjList)):\n",
    "        for edge in adjList[vertex]:\n",
    "            ADJMatrix[vertex][edge] = 1\n",
    "    return ADJMatrix\n",
    "\n",
    "\n",
    "ADJMatrix = DAGadjMATRIX(adjList)\n",
    "print(ADJMatrix)"
   ]
  },
  {
   "cell_type": "markdown",
   "metadata": {},
   "source": [
    "### Topological Sorting for \"Adjacency Matrix\":"
   ]
  },
  {
   "cell_type": "code",
   "execution_count": 251,
   "metadata": {},
   "outputs": [
    {
     "name": "stdout",
     "output_type": "stream",
     "text": [
      "[8, 5, 3, 2, 1, 6, 4, 0, 9, 7]\n"
     ]
    }
   ],
   "source": [
    "def TopoSortADJMatrix(i, visited, sortedGraph, graph):\n",
    "    visited[i]=True\n",
    "    row = []\n",
    "    for idx,col in enumerate(graph[i]):\n",
    "        if col == 1:\n",
    "            if visited[idx] == False:\n",
    "                TopoSortADJMatrix(idx, visited, sortedGraph, graph)\n",
    "    sortedGraph.insert(0,i) \n",
    "    \n",
    "    \n",
    "def TopologicalSortADJMatrix(graph):\n",
    "    visited = [False for i in range(len(graph))]\n",
    "    sortedGraph = []\n",
    "    for i in range(len(graph)):\n",
    "        if visited[i] == False:\n",
    "            TopoSortADJMatrix(i, visited, sortedGraph, graph)\n",
    "    return sortedGraph\n",
    "    \n",
    "    \n",
    "print(TopologicalSortADJMatrix(ADJMatrix))"
   ]
  },
  {
   "cell_type": "markdown",
   "metadata": {},
   "source": [
    "## Creating time table:"
   ]
  },
  {
   "cell_type": "code",
   "execution_count": 255,
   "metadata": {},
   "outputs": [
    {
     "name": "stdout",
     "output_type": "stream",
     "text": [
      "0\n",
      "100\n",
      "200\n",
      "300\n",
      "400\n",
      "500\n",
      "600\n",
      "700\n",
      "800\n",
      "900\n",
      "1000\n"
     ]
    }
   ],
   "source": [
    "timeTab = [[] for i in range(4)]\n",
    "\n",
    "for i in range(0,1100,100):\n",
    "    sumTab = [[] for i in range(4)]\n",
    "    N = i \n",
    "    \n",
    "    adjList = DAGAdjacencyList(N)\n",
    "    edgeList = DAGEdgeList(adjList)\n",
    "    incMatrix = DAGincMATRIX(N,edgeList)\n",
    "    ADJMatrix = DAGadjMATRIX(adjList)\n",
    "    for j in range(10):\n",
    "        TimeEL = time.time()\n",
    "        TopologicalSortEdgeList(N, edgeList)\n",
    "        sumTab[0].append(time.time() - TimeEL)\n",
    "\n",
    "        TimeAL = time.time()\n",
    "        TopologicalSortADJMatrix(adjList)\n",
    "        sumTab[1].append(time.time() - TimeAL)\n",
    "\n",
    "        TimeAM = time.time()\n",
    "        TopologicalSortADJMatrix(ADJMatrix)\n",
    "        sumTab[2].append(time.time() - TimeAM)\n",
    "\n",
    "        TimeIM = time.time()\n",
    "        TopologicalSortINCMatrix(incMatrix)\n",
    "        sumTab[3].append(time.time() - TimeIM)\n",
    "    sumTab = np.mean(sumTab, axis=1)\n",
    "    for idx, t in enumerate(sumTab):\n",
    "        timeTab[idx].append(t)\n",
    "    print(N)"
   ]
  },
  {
   "cell_type": "markdown",
   "metadata": {},
   "source": [
    "## Creaiting chart: t[s] = f(n=(number of vertices))"
   ]
  },
  {
   "cell_type": "code",
   "execution_count": 256,
   "metadata": {},
   "outputs": [
    {
     "data": {
      "image/png": "[encoded data removed]",
      "text/plain": [
       "<Figure size 432x288 with 1 Axes>"
      ]
     },
     "metadata": {
      "needs_background": "light"
     },
     "output_type": "display_data"
    }
   ],
   "source": [
    "numOfElem = [i for i in range(0,1100,100)]\n",
    "\n",
    "for i in timeTab:\n",
    "  plt.plot(numOfElem,list(i))\n",
    "plt.xlabel(\"number of elements\")\n",
    "plt.ylabel(\"tiem [s]\")\n",
    "plt.title(\"Chart: t[s] = f(n)\")\n",
    "plt.legend(['Edge List','Adjacency list','Adjacency matrix','Incidence matrix'])\n",
    "plt.show()"
   ]
  },
  {
   "cell_type": "code",
   "execution_count": 257,
   "metadata": {},
   "outputs": [
    {
     "data": {
      "image/png": "[encoded data removed]",
      "text/plain": [
       "<Figure size 432x288 with 1 Axes>"
      ]
     },
     "metadata": {
      "needs_background": "light"
     },
     "output_type": "display_data"
    }
   ],
   "source": [
    "numOfElem = [i for i in range(0,1100,100)]\n",
    "\n",
    "for i in timeTab[:3]:\n",
    "    plt.plot(numOfElem,list(i))\n",
    "plt.xlabel(\"number of elements\")\n",
    "plt.ylabel(\"tiem [s]\")\n",
    "plt.title(\"Chart: t[s] = f(n)\")\n",
    "plt.legend(['Edge List','Adjacency list','Adjacency matrix'])\n",
    "plt.show()"
   ]
  },
  {
   "cell_type": "markdown",
   "metadata": {},
   "source": [
    "## 3. Formulate conclusions regarding the effectiveness of each graph representation and the problem of topological order."
   ]
  },
  {
   "cell_type": "markdown",
   "metadata": {},
   "source": [
    "**Edge list** - The easiest graph representation to implement, but achieves the worst results. Since each edge contains just two numbers, the total space for an edge list is O(E) (E-number of edges).\n"
   ]
  },
  {
   "cell_type": "markdown",
   "metadata": {},
   "source": [
    "**Incidence matrix** - Representation which is worse than \"Adjacency Matrix\" but definitely better than \"Edge list\" in finding edge between two vertices. It is definitely the worst graph representation in topological sorting process."
   ]
  },
  {
   "cell_type": "markdown",
   "metadata": {},
   "source": [
    "**Adjacency matrix** - Graph representation which has similar results in looking for specific edge, but in topological sorting has worse score, but it takes O(V^2) space, even if the graph is sparse: relatively few edges. If ours graph has small saturation of the graph with edges it still use lots of space to represent only a few edges. It is fast to lookup and check for presence or absence of a specific edge\n",
    "between any two nodes O(1)"
   ]
  },
  {
   "cell_type": "markdown",
   "metadata": {},
   "source": [
    "**Adjacency list** - In my opinion the best representation of any graph. This representation is pleasant to implement, obtains the best results and is the easiest to read by human. Memory usage depends on the number of edges (not number of nodes), which might save a lot of memory if the adjacency matrix is sparse. It is fast to iterate over all edges because you can access any node neighbors directly. It is better for sparse graphs where an adjacency matrix would take up too much space that is only filled with zero."
   ]
  },
  {
   "cell_type": "markdown",
   "metadata": {},
   "source": [
    "**Conclusion**\n",
    "\n",
    "If we need to implement some graph in any program, whe should choose between \"Adjacency list\" or \"Adjacency matrix\". Our choice should depends primarily on saturation of edges in graph, because  propably we could wasted to much space for our graph. However, if we need to create a DAG the better choice will be \"Adjacency List\", because it gives more efficient results for \"Topological sort\" and it is easier to implement.   "
   ]
  },
  {
   "cell_type": "markdown",
   "metadata": {},
   "source": [
    "Created by: Bartosz Maślanka"
   ]
  }
 ],
 "metadata": {
  "kernelspec": {
   "display_name": "Python 3",
   "language": "python",
   "name": "python3"
  },
  "language_info": {
   "codemirror_mode": {
    "name": "ipython",
    "version": 3
   },
   "file_extension": ".py",
   "mimetype": "text/x-python",
   "name": "python",
   "nbconvert_exporter": "python",
   "pygments_lexer": "ipython3",
   "version": "3.7.5"
  }
 },
 "nbformat": 4,
 "nbformat_minor": 2
}
