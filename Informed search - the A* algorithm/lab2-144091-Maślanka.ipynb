{
 "cells": [
  {
   "cell_type": "markdown",
   "metadata": {},
   "source": [
    "# Informed search - the A* algorithm"
   ]
  },
  {
   "cell_type": "markdown",
   "metadata": {},
   "source": [
    "Depth-first search and breadth-first search considered in the previous lesson are completely *blind* algorithms: they're only concerned whether the currently considered state is a goal state or not. They're unable to distinguish whether a state is easy or hard to reach, or whether it is near or far of the goal. This makes them very inefficient search algorithms. To allievate the issue, we introduce informed search algorithms. The information is given to an algorithm in two ways:\n",
    "\n",
    "1. By using an *action cost* function $c(s,a)$, which, given a state $s$ and an action $a$ available in this state, returns its cost as a non-negative number.\n",
    "2. By using a *heuristic* $h(s)$, which, given a state, estimates the lowest cost to reach a goal state from the given state.\n",
    "\n",
    "Given a sequence of actions $a_1, \\ldots, a_n$ and an initial state $s_1$, we can express the *total cost* of reaching the state $s_{n+1}$ by executing the sequence as:\n",
    "$$ c(s_1, a_1, \\ldots, a_{n-1}) = \\sum_{i=1}^n c(s_i, a_i) $$\n",
    "and the *expected cost* of the solution as the sum of the total cost and the estimate cost of reaching the goal from the state $s_{n+1}$\n",
    "$$ f(s_1, a_1, \\ldots, a_n) = c(s_1, a_1, \\ldots, a_n) + h(s_{n+1}) $$\n",
    "\n",
    "The heuristic function is a bit tricky, because we want it to have two properties:\n",
    "* *Admissibility*: It must never *overestimate* the true cost of reaching the goal. \n",
    "* *Consistency*: Let $s$ be a state such that $a$ is an available action in this state and $s'$ is the state reached by executing this action. The heuristic should fulfil triangle inequality, that is, the estimated cost to reach the goal from $s$ should be no greater than the cost of executing the action $a$ + the estimated cost of reaching the goal from the new state.\n",
    "$$ h(s) \\leq c(s, a) + h(s') $$\n",
    "\n",
    "One can prove that admissibility follows from consistency, but consistency is important only if there are multiple paths to reach the same state (i.e., we are searching in a graph, not in a tree). Otherwise, admissability is sufficient."
   ]
  },
  {
   "cell_type": "markdown",
   "metadata": {},
   "source": [
    "Lets extend the class `Problem` from the previous lesson with two new functions `action_cost` and `heuristic`, which correspond to the functions $c(s,a)$ and $h(s)$ described above."
   ]
  },
  {
   "cell_type": "code",
   "execution_count": 7,
   "metadata": {},
   "outputs": [],
   "source": [
    "class Problem:\n",
    "    @property\n",
    "    def initial_state(self):\n",
    "        ...\n",
    "        \n",
    "    def available_actions(self, state):\n",
    "        ...        \n",
    "        \n",
    "    def do_action(self, state, action):\n",
    "        ...\n",
    "        return new_state\n",
    "    \n",
    "    def is_goal(self, state) -> bool:\n",
    "        ...\n",
    "        \n",
    "    def action_cost(self, state, action) -> float:\n",
    "        ...\n",
    "        \n",
    "    def heuristic(self, state) -> float:\n",
    "        ..."
   ]
  },
  {
   "cell_type": "markdown",
   "metadata": {},
   "source": [
    "To make a concrete example, lets revisit the vacuum world. \n",
    "\n",
    "![](aima-images/fig2_2.png)\n",
    "\n",
    "Below, we assume a very simple model:\n",
    "* Any action costs 1. This corresponds to searching for the shortest plan.\n",
    "* The heuristic estimation is the number of fields which are still dirty. \n",
    "\n",
    "\n",
    "Lets consider the properties of the heuristic:\n",
    "* Is is admissible? The heuristic value is equal to the number of 'Suck' actions that are yet to be executed and ignores the spatial aspect (i.e., moving between the rooms), thus never overestimating.\n",
    "* Is it consistent? As a consequence of a single action the heuristic value can decrease by at most 1 (if the action happens to be 'Suck' and the room is dirty). The cost of any action is 1, so rewriting the triangle inequality we arrive at:\n",
    "$$ h(s) \\leq c(s, a) + h(s') = \\begin{cases} 1 + (h(s)-1) & a=\\text{'Suck' and the room was dirty} \\\\ 1 + h(s) & \\text{otherwise} \\end{cases} $$\n",
    "* Is it the best we could have? By no means! We could include the spatial aspect."
   ]
  },
  {
   "cell_type": "code",
   "execution_count": 2,
   "metadata": {},
   "outputs": [],
   "source": [
    "class VacuumProblem(Problem):\n",
    "    @property\n",
    "    def initial_state(self):\n",
    "        return (0, (True, True))\n",
    "    \n",
    "    def available_actions(self, state):\n",
    "        return [\"Left\", \"Suck\", \"Right\"]\n",
    "        \n",
    "    def do_action(self, state, action):\n",
    "        robot, dirty = state\n",
    "        if action == \"Left\":\n",
    "            return (max(robot-1, 0), dirty)\n",
    "        elif action == \"Suck\":\n",
    "            new_dirty = list(dirty)\n",
    "            new_dirty[robot] = False\n",
    "            return (robot, tuple(new_dirty))\n",
    "        elif action == \"Right\":\n",
    "            return (min(robot+1, len(dirty)-1), dirty)        \n",
    "        raise Exception('Invalid action')\n",
    "    \n",
    "    def is_goal(self, state) -> bool:\n",
    "        return not any(state[1])\n",
    "    \n",
    "    def action_cost(self, state, action):\n",
    "        return 1\n",
    "    \n",
    "    def heuristic(self, state):\n",
    "        return sum(state[1])"
   ]
  },
  {
   "cell_type": "markdown",
   "metadata": {},
   "source": [
    "## Task 1: Implement the A* algorithm\n",
    "\n",
    "To implement the A* algorithm you must have a priority queue. Luckily, Python comes with one, so you don't need to implement it by yourself. Then, the algorithm is very simple: \n",
    "1. Start with a queue containing a single item - the initial state\n",
    "2. Repeat until the queue is not empty:\n",
    "  1. Pick an item with the lowest expected cost\n",
    "  2. If this is the goal, return the sequence of actions necessary to reach this state\n",
    "  3. Otherwise, for each available action, create a new entry in the queue corresponding to the state reached after executing the action.\n",
    "  \n",
    "Guard the algorithm against infinite loops: if you already visited a state, you don't need to visit it again (if your heuristic is consistent).\n",
    "\n",
    "In the cell below implement the algorithm in a similar manner as the BFS and DFS in the previous lesson: the sole argument is an object of the class Problem and the function should return a list of actions to achieve a goal state from the initial state.\n",
    "If it is impossible to reach the goal, return `None`.\n",
    "Count the number of states visited during the search and print in out before returning from the function, it will be useful later on to compare different heuristics."
   ]
  },
  {
   "cell_type": "code",
   "execution_count": 6,
   "metadata": {
    "pycharm": {
     "name": "#%%\n"
    }
   },
   "outputs": [],
   "source": [
    "def astar(problem: Problem):\n",
    "    state = problem.initial_state\n",
    "    queue = [(problem.heuristic(state),[], state, 0)]\n",
    "    visited = []\n",
    "    while queue:\n",
    "        heuristic,path,state,cost = queue.pop(queue.index(min(queue, key=lambda x:x[0])))\n",
    "#         print(heuristic,path,state,cost)\n",
    "        if problem.is_goal(state):\n",
    "#             print(cost)\n",
    "#             print(\"Number of visited state: \",len(visited))\n",
    "            return path, len(visited)\n",
    "        if state in visited:\n",
    "            continue\n",
    "        visited.append(state)\n",
    "        for action in problem.available_actions(state):\n",
    "            new_state = problem.do_action(state,action)\n",
    "            if new_state not in visited:\n",
    "                move_cost = problem.action_cost(state,action)\n",
    "                heuristic = problem.heuristic(new_state)\n",
    "                new_cost = cost + move_cost +  heuristic\n",
    "                new_path = path + [action]\n",
    "                queue.append((new_cost,new_path,new_state,cost+move_cost))\n"
   ]
  },
  {
   "cell_type": "code",
   "execution_count": 4,
   "metadata": {},
   "outputs": [
    {
     "name": "stdout",
     "output_type": "stream",
     "text": [
      "Number of visited states:  5\n"
     ]
    },
    {
     "data": {
      "text/plain": [
       "['Suck', 'Right', 'Suck']"
      ]
     },
     "execution_count": 4,
     "metadata": {},
     "output_type": "execute_result"
    }
   ],
   "source": [
    "path, num = astar(VacuumProblem())\n",
    "print(\"Number of visited states: \", num)\n",
    "path"
   ]
  },
  {
   "cell_type": "code",
   "execution_count": 5,
   "metadata": {},
   "outputs": [
    {
     "name": "stdout",
     "output_type": "stream",
     "text": [
      "17 µs ± 736 ns per loop (mean ± std. dev. of 7 runs, 100000 loops each)\n"
     ]
    }
   ],
   "source": [
    "%timeit astar(VacuumProblem())"
   ]
  },
  {
   "cell_type": "markdown",
   "metadata": {
    "pycharm": {
     "name": "#%% md\n"
    }
   },
   "source": [
    "## Task 2: Variants of the vacuum world\n",
    "\n",
    "Now lets consider a different take on the vacuum world in which the heuristic is not admissible and increases as the number of dirty fields decreases."
   ]
  },
  {
   "cell_type": "code",
   "execution_count": 284,
   "metadata": {
    "pycharm": {
     "name": "#%%\n"
    }
   },
   "outputs": [
    {
     "name": "stdout",
     "output_type": "stream",
     "text": [
      "Number of visited states:  6\n"
     ]
    },
    {
     "data": {
      "text/plain": [
       "['Suck', 'Right', 'Suck']"
      ]
     },
     "execution_count": 284,
     "metadata": {},
     "output_type": "execute_result"
    }
   ],
   "source": [
    "class VacuumProblem1(VacuumProblem):\n",
    "    def action_cost(self, state, action):\n",
    "        return 1\n",
    "    \n",
    "    def heuristic(self, state):\n",
    "        return len(state[1]) - sum(state[1])\n",
    "    \n",
    "path, num = astar(VacuumProblem1())\n",
    "print(\"Number of visited states: \", num)\n",
    "path"
   ]
  },
  {
   "cell_type": "code",
   "execution_count": 185,
   "metadata": {},
   "outputs": [
    {
     "name": "stdout",
     "output_type": "stream",
     "text": [
      "20.5 µs ± 395 ns per loop (mean ± std. dev. of 7 runs, 10000 loops each)\n"
     ]
    }
   ],
   "source": [
    "%timeit astar(VacuumProblem1())"
   ]
  },
  {
   "cell_type": "markdown",
   "metadata": {
    "pycharm": {
     "name": "#%% md\n"
    }
   },
   "source": [
    "And another in which heuristic grossly overestimates the cost."
   ]
  },
  {
   "cell_type": "code",
   "execution_count": 283,
   "metadata": {
    "pycharm": {
     "name": "#%%\n"
    }
   },
   "outputs": [
    {
     "name": "stdout",
     "output_type": "stream",
     "text": [
      "Number of visited states:  3\n"
     ]
    },
    {
     "data": {
      "text/plain": [
       "['Suck', 'Right', 'Suck']"
      ]
     },
     "execution_count": 283,
     "metadata": {},
     "output_type": "execute_result"
    }
   ],
   "source": [
    "class VacuumProblem2(VacuumProblem):\n",
    "    def action_cost(self, state, action):\n",
    "        return 1\n",
    "    \n",
    "    def heuristic(self, state):\n",
    "        return 10 * sum(state[1])\n",
    "    \n",
    "path, num = astar(VacuumProblem2())\n",
    "print(\"Number of visited states: \", num)\n",
    "path"
   ]
  },
  {
   "cell_type": "code",
   "execution_count": 265,
   "metadata": {},
   "outputs": [
    {
     "name": "stdout",
     "output_type": "stream",
     "text": [
      "10.7 µs ± 296 ns per loop (mean ± std. dev. of 7 runs, 100000 loops each)\n"
     ]
    }
   ],
   "source": [
    "%timeit astar(VacuumProblem2())"
   ]
  },
  {
   "cell_type": "markdown",
   "metadata": {},
   "source": [
    "**Which of the three heuristic functions (`VacuumProblem`, `VacuumProblem1`, `VacuumProblem2`) is the best? Is it the expected answer given the properties of the heuristics? If not, explain why an unorthodox approach works better.**"
   ]
  },
  {
   "cell_type": "markdown",
   "metadata": {},
   "source": [
    "By analyzing the results, the best heuristic is VacumProblem2, but it awards too many points for the action done and as a result favors the first 'Suck \"move too much at the same time gives huge penalty to the actions (left / right), so it gets the best result."
   ]
  },
  {
   "cell_type": "markdown",
   "metadata": {
    "pycharm": {
     "name": "#%% md\n"
    }
   },
   "source": [
    "## Task 3: 8-puzzle problem\n",
    "\n",
    "Recall the 8-puzzle problem from the previous lesson. Reuse your code and implement an extended version assuming that each action costs 1. Propose 3 (at least) admissible heuristics. This time don't change the initial state, your solution should be capable enough to solve this.\n",
    "\n",
    "![](aima-images/fig3_4.png)"
   ]
  },
  {
   "cell_type": "code",
   "execution_count": 14,
   "metadata": {
    "pycharm": {
     "name": "#%%\n"
    }
   },
   "outputs": [],
   "source": [
    "import numpy as np\n",
    "import copy\n",
    "from math import sqrt\n",
    "\n",
    "class PuzzleProblem(Problem):\n",
    "    @property\n",
    "    def initial_state(self):\n",
    "        return [[7,2,4],\n",
    "              [5,0,6],\n",
    "                [8,3,1]]    \n",
    "    \n",
    "    def available_actions(self, state):\n",
    "        return ['Up', 'Right', 'Down', 'Left']\n",
    "        \n",
    "    def do_action(self, state, action):\n",
    "        new_state = copy.deepcopy(state)\n",
    "        for x, y in enumerate(state):\n",
    "            if 0 in y:\n",
    "                row = x\n",
    "                col = y.index(0)\n",
    "        \n",
    "        if action == 'Up':\n",
    "            if row == 0:\n",
    "                return state\n",
    "            else:\n",
    "                new_state[row][col] = new_state[row - 1][col]\n",
    "                new_state[row - 1][col] = 0\n",
    "                           \n",
    "        elif action == 'Right':\n",
    "            if col == 2:\n",
    "                return state\n",
    "            else:\n",
    "                new_state[row][col] = state[row][col + 1]\n",
    "                new_state[row][col + 1] = 0\n",
    "                            \n",
    "        elif action == 'Down':\n",
    "            if row == 2:\n",
    "                return state\n",
    "            else:\n",
    "                new_state[row][col] = state[row + 1][col]\n",
    "                new_state[row + 1][col] = 0\n",
    "                        \n",
    "        elif action == 'Left':\n",
    "            if col == 0:\n",
    "                return state\n",
    "            else:\n",
    "                new_state[row][col] = state[row][col - 1]\n",
    "                new_state[row][col - 1] = 0\n",
    "                    \n",
    "        return new_state\n",
    "    \n",
    "    def is_goal(self, state):\n",
    "        goal = np.array([[0,1,2],\n",
    "                        [3,4,5],\n",
    "                        [6,7,8]])\n",
    "        if (state == goal).all():\n",
    "            return True\n",
    "        else: \n",
    "            return False\n",
    "        \n",
    "        \n",
    "    def action_cost(self, state, action):\n",
    "        return 1\n",
    "    \n",
    "    def heurisitc_manhatan(self, state):\n",
    "#         new_state = copy.deepcopy(state)\n",
    "        b = np.array([[0,1,2],\n",
    "                [3,4,5],\n",
    "                [6,7,8]])\n",
    "        a = np.array(state)\n",
    "        dif = 0\n",
    "        for elem in [x for x in range(0,8)]:\n",
    "            i,j = np.where(a==elem)\n",
    "            idx_state = (int(i),int(j))\n",
    "            i,j = np.where(b==elem)\n",
    "            idx_goal = (int(i),int(j))\n",
    "        #     print(idx_state,idx_goal)\n",
    "            dif += (abs(idx_state[0]-idx_goal[0])+abs(idx_state[1]-idx_goal[1]))\n",
    "        return dif\n",
    "    \n",
    "    def heuristic_euclidean(self, state):\n",
    "        b = np.array([[0,1,2],\n",
    "                [3,4,5],\n",
    "                [6,7,8]])\n",
    "        a = np.array(state)\n",
    "        dif = 0\n",
    "        for elem in [x for x in range(0,9)]:\n",
    "            i,j = np.where(a==elem)\n",
    "            idx_state = (int(i),int(j))\n",
    "            i,j = np.where(b==elem)\n",
    "            idx_goal = (int(i),int(j))\n",
    "        #     print(idx_state,idx_goal)\n",
    "            dif += sqrt((idx_state[0]-idx_goal[0])**2 + (idx_state[1]-idx_goal[1])**2)\n",
    "#         print(dif)\n",
    "        return dif\n",
    "\n",
    "    def heuristic(self, state):\n",
    "        return self.heurisitc_manhatan(state)"
   ]
  },
  {
   "cell_type": "code",
   "execution_count": 15,
   "metadata": {},
   "outputs": [
    {
     "name": "stdout",
     "output_type": "stream",
     "text": [
      "Number of visited states:  8996\n",
      "['Left', 'Up', 'Right', 'Down', 'Down', 'Left', 'Up', 'Right', 'Right', 'Up', 'Left', 'Left', 'Down', 'Right', 'Right', 'Down', 'Left', 'Left', 'Up', 'Right', 'Right', 'Up', 'Left', 'Down', 'Left', 'Up']\n"
     ]
    }
   ],
   "source": [
    "path0, num0 = astar(PuzzleProblem())\n",
    "print(\"Number of visited states: \", num0)\n",
    "print(path0)"
   ]
  },
  {
   "cell_type": "code",
   "execution_count": 16,
   "metadata": {},
   "outputs": [
    {
     "name": "stdout",
     "output_type": "stream",
     "text": [
      "20.1 s ± 283 ms per loop (mean ± std. dev. of 7 runs, 1 loop each)\n"
     ]
    }
   ],
   "source": [
    "%timeit astar(PuzzleProblem())"
   ]
  },
  {
   "cell_type": "markdown",
   "metadata": {},
   "source": [
    "**Prove that this heuristic is admissible.**"
   ]
  },
  {
   "cell_type": "markdown",
   "metadata": {},
   "source": [
    "\"heuristic_manhatan\" is admissible because all any move can do is move one tile one step\n",
    "closer to the goal. Manhattan distance is defined on a grid (only 4 moves are possible, no \"across\" moves LEFT, RIGHT, UP, DOWN) so it's similar to moves allowed in 8-puzzle problem and cost of each move is equal to 1."
   ]
  },
  {
   "cell_type": "code",
   "execution_count": 17,
   "metadata": {},
   "outputs": [],
   "source": [
    "class PuzzleProblem1(PuzzleProblem):\n",
    "    def heuristic(self, state) -> float:\n",
    "        return (self.heurisitc_manhatan(state)+self.heuristic_euclidean(state))/2"
   ]
  },
  {
   "cell_type": "code",
   "execution_count": 18,
   "metadata": {},
   "outputs": [
    {
     "name": "stdout",
     "output_type": "stream",
     "text": [
      "Number of visited states:  8235\n",
      "['Left', 'Up', 'Right', 'Down', 'Down', 'Left', 'Up', 'Right', 'Right', 'Up', 'Left', 'Left', 'Down', 'Right', 'Right', 'Down', 'Left', 'Left', 'Up', 'Right', 'Right', 'Up', 'Left', 'Down', 'Left', 'Up']\n"
     ]
    }
   ],
   "source": [
    "path1, num1 = astar(PuzzleProblem1())\n",
    "print(\"Number of visited states: \", num1)\n",
    "print(path1)"
   ]
  },
  {
   "cell_type": "code",
   "execution_count": 19,
   "metadata": {},
   "outputs": [
    {
     "name": "stdout",
     "output_type": "stream",
     "text": [
      "28.7 s ± 12 s per loop (mean ± std. dev. of 7 runs, 1 loop each)\n"
     ]
    }
   ],
   "source": [
    "%timeit astar(PuzzleProblem1())"
   ]
  },
  {
   "cell_type": "markdown",
   "metadata": {},
   "source": [
    "**Prove that this heuristic is admissible.**"
   ]
  },
  {
   "cell_type": "markdown",
   "metadata": {},
   "source": [
    "The average of Manhattan distance and euclidean distance is similar to the previous heuristic, also it's will never exceed the \"real\" distance."
   ]
  },
  {
   "cell_type": "code",
   "execution_count": 20,
   "metadata": {},
   "outputs": [],
   "source": [
    "class PuzzleProblem2(PuzzleProblem):\n",
    "    def heuristic(self, state) -> float:\n",
    "        return self.heuristic_euclidean(state)"
   ]
  },
  {
   "cell_type": "code",
   "execution_count": 21,
   "metadata": {},
   "outputs": [
    {
     "name": "stdout",
     "output_type": "stream",
     "text": [
      "Number of visited states:  8437\n",
      "['Left', 'Up', 'Right', 'Down', 'Down', 'Left', 'Up', 'Right', 'Right', 'Up', 'Left', 'Left', 'Down', 'Right', 'Right', 'Down', 'Left', 'Left', 'Up', 'Right', 'Right', 'Up', 'Left', 'Down', 'Left', 'Up']\n"
     ]
    }
   ],
   "source": [
    "path2, num2 = astar(PuzzleProblem2())\n",
    "print(\"Number of visited states: \", num2)\n",
    "print(path2)"
   ]
  },
  {
   "cell_type": "code",
   "execution_count": 22,
   "metadata": {},
   "outputs": [
    {
     "name": "stdout",
     "output_type": "stream",
     "text": [
      "45 s ± 504 ms per loop (mean ± std. dev. of 7 runs, 1 loop each)\n"
     ]
    }
   ],
   "source": [
    "%timeit astar(PuzzleProblem2())"
   ]
  },
  {
   "cell_type": "markdown",
   "metadata": {},
   "source": [
    "**Prove that this heuristic is admissible.**"
   ]
  },
  {
   "cell_type": "markdown",
   "metadata": {},
   "source": [
    "The Euclidean distance measure used in PuzzleProblem3 lower the actual travel length, because in our problem we can't move \"across\".\n",
    "The score is calculate about Pythagoren theorem."
   ]
  },
  {
   "cell_type": "markdown",
   "metadata": {},
   "source": [
    "Run your heuristics on the given problem."
   ]
  },
  {
   "cell_type": "code",
   "execution_count": 276,
   "metadata": {},
   "outputs": [
    {
     "name": "stdout",
     "output_type": "stream",
     "text": [
      "Is plan0==plan1? True\n",
      "Is plan0==plan2? True\n",
      "Is plan1==plan2? True\n"
     ]
    }
   ],
   "source": [
    "print(\"Is plan0==plan1?\", path0 == path1)\n",
    "print(\"Is plan0==plan2?\", path0 == path2)\n",
    "print(\"Is plan1==plan2?\", path1 == path2)"
   ]
  },
  {
   "cell_type": "markdown",
   "metadata": {},
   "source": [
    "**Which of the heuristics is the best for this task? Why is that?**"
   ]
  },
  {
   "cell_type": "markdown",
   "metadata": {},
   "source": [
    "The best heuristic is the manhatan distance, it achieves the best time score. This method is the best for the our problem because it fits to the allowed moves in 8-puzzle an its count the \"real\" distance. If we could move \"across\" probly the best heuritic will be the average of sum Euclidean and Manhatan distance."
   ]
  },
  {
   "cell_type": "markdown",
   "metadata": {},
   "source": [
    "------------\n",
    "The pictures and the description of 8-puzzle are from \"Artificial Intelligence: A Modern Approach\" 3rd ed."
   ]
  }
 ],
 "metadata": {
  "kernelspec": {
   "display_name": "Python 3",
   "language": "python",
   "name": "python3"
  },
  "language_info": {
   "codemirror_mode": {
    "name": "ipython",
    "version": 3
   },
   "file_extension": ".py",
   "mimetype": "text/x-python",
   "name": "python",
   "nbconvert_exporter": "python",
   "pygments_lexer": "ipython3",
   "version": "3.8.6"
  }
 },
 "nbformat": 4,
 "nbformat_minor": 4
}
